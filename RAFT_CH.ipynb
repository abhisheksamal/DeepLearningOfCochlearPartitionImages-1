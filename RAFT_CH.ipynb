{
  "cells": [
    {
      "cell_type": "code",
      "source": [
        "def InitialSetup():\n",
        "  #%%javascript\n",
        "  %pip uninstall --y torch torchvision\n",
        "  %pip install --pre torchvision -f  https://download.pytorch.org/whl/nightly/cu101/torch_nightly.html\n",
        "  %pip install av"
      ],
      "metadata": {
        "id": "mvKOgZE9qIok"
      },
      "id": "mvKOgZE9qIok",
      "execution_count": 1,
      "outputs": []
    },
    {
      "cell_type": "code",
      "execution_count": 2,
      "id": "a89a4057",
      "metadata": {
        "id": "a89a4057",
        "colab": {
          "base_uri": "https://localhost:8080/"
        },
        "outputId": "5e7d7460-964e-446d-926b-8630c34c9479"
      },
      "outputs": [
        {
          "output_type": "stream",
          "name": "stdout",
          "text": [
            "1.11.0+cu102\n"
          ]
        }
      ],
      "source": [
        "import torch\n",
        "print(torch.__version__)\n",
        "if torch.__version__ == '1.10.0+cu111':\n",
        "  \n",
        "  from google.colab import drive\n",
        "  drive.mount('/content/drive')\n",
        "  InitialSetup()"
      ]
    },
    {
      "cell_type": "code",
      "source": [
        "import numpy as np\n",
        "import torch\n",
        "import os\n",
        "import sys\n",
        "import cv2\n",
        "import matplotlib.pyplot as plt\n",
        "import torchvision.transforms.functional as F\n",
        "import torchvision.transforms as T\n",
        "import tempfile\n",
        "\n",
        "from glob import glob\n",
        "from PIL import Image\n",
        "from tqdm import tqdm\n",
        "from PIL import Image\n",
        "from pathlib import Path\n",
        "from urllib.request import urlretrieve\n",
        "from torchvision.io import read_video\n",
        "from torchvision.models.optical_flow import raft_large\n",
        "from torchvision.models.optical_flow import raft_small\n",
        "from torchvision.models.optical_flow import raft\n",
        "from torchvision.utils import flow_to_image\n",
        "from torchvision.transforms import ToTensor"
      ],
      "metadata": {
        "id": "XfTFuvc6Gpw0"
      },
      "id": "XfTFuvc6Gpw0",
      "execution_count": 3,
      "outputs": []
    },
    {
      "cell_type": "code",
      "execution_count": 4,
      "id": "212453ff",
      "metadata": {
        "id": "212453ff",
        "outputId": "29a14ac4-41e1-4b9e-e739-f6328ba70cd3",
        "colab": {
          "base_uri": "https://localhost:8080/"
        }
      },
      "outputs": [
        {
          "output_type": "stream",
          "name": "stdout",
          "text": [
            "<PIL.TiffImagePlugin.TiffImageFile image mode=I;16 size=1600x1200 at 0x7FC2592FB650>\n"
          ]
        }
      ],
      "source": [
        "im1 = Image.open(\"/content/drive/MyDrive/523_data/Image_F10HzP000L1S20120322T114453.tif\")\n",
        "im2 = Image.open(\"/content/drive/MyDrive/523_data/Image_F10HzP045L1S20120322T114453.tif\")\n",
        "im3 = Image.open(\"/content/drive/MyDrive/523_data/Image_F10HzP090L1S20120322T114453.tif\")\n",
        "im4 = Image.open(\"/content/drive/MyDrive/523_data/Image_F10HzP135L1S20120322T114453.tif\")\n",
        "im5 = Image.open(\"/content/drive/MyDrive/523_data/Image_F10HzP180L1S20120322T114453.tif\")\n",
        "im6 = Image.open(\"/content/drive/MyDrive/523_data/Image_F10HzP225L1S20120322T114453.tif\")\n",
        "im7 = Image.open(\"/content/drive/MyDrive/523_data/Image_F10HzP270L1S20120322T114453.tif\")\n",
        "im8 = Image.open(\"/content/drive/MyDrive/523_data/Image_F10HzP315L1S20120322T114453.tif\")\n",
        "num_im = 8\n",
        "print(im1)"
      ]
    },
    {
      "cell_type": "code",
      "source": [
        "# crop image\n",
        "\n",
        "def crop_image(i):\n",
        "    return i.crop((0,0,1600,600))\n",
        "\n",
        "im1 = crop_image(im1)\n",
        "im2 = crop_image(im2)\n",
        "im3 = crop_image(im3)\n",
        "im4 = crop_image(im4)\n",
        "im5 = crop_image(im5)\n",
        "im6 = crop_image(im6)\n",
        "im7 = crop_image(im7)\n",
        "im8 = crop_image(im8)\n"
      ],
      "metadata": {
        "id": "0_5tA-zW93vl"
      },
      "id": "0_5tA-zW93vl",
      "execution_count": 5,
      "outputs": []
    },
    {
      "cell_type": "code",
      "source": [
        "def get_im(i):\n",
        "        i+=1\n",
        "        if i== 1:\n",
        "            return im1\n",
        "        if i== 2:\n",
        "            return im2\n",
        "        if i== 3:\n",
        "            return im3\n",
        "        if i== 4:\n",
        "            return im4\n",
        "        if i== 5:\n",
        "            return im5\n",
        "        if i== 6:\n",
        "            return im6\n",
        "        if i== 7:\n",
        "            return im7\n",
        "        if i== 8:\n",
        "            return im8\n",
        "        else :\n",
        "            return 'Whoops'"
      ],
      "metadata": {
        "id": "gQF5LiFfQyEM"
      },
      "id": "gQF5LiFfQyEM",
      "execution_count": 6,
      "outputs": []
    },
    {
      "cell_type": "code",
      "source": [
        "def model_summary(model):\n",
        "  print(\"model_summary\")\n",
        "  print()\n",
        "  print(\"Layer_name\"+\"\\t\"*7+\"Number of Parameters\")\n",
        "  print(\"=\"*100)\n",
        "  model_parameters = [layer for layer in model.parameters() if layer.requires_grad]\n",
        "  layer_name = [child for child in model.children()]\n",
        "  j = 0\n",
        "  total_params = 0\n",
        "  print(\"\\t\"*10)\n",
        "  for i in layer_name:\n",
        "    print()\n",
        "    param = 0\n",
        "    try:\n",
        "      bias = (i.bias is not None)\n",
        "    except:\n",
        "      bias = False  \n",
        "    if not bias:\n",
        "      param =model_parameters[j].numel()+model_parameters[j+1].numel()\n",
        "      j = j+2\n",
        "    else:\n",
        "      param =model_parameters[j].numel()\n",
        "      j = j+1\n",
        "    print(str(i)+\"\\t\"*3+str(param))\n",
        "    total_params+=param\n",
        "  print(\"=\"*100)\n",
        "  print(f\"Total Params:{total_params}\")    "
      ],
      "metadata": {
        "id": "IxFIb8QvalYh"
      },
      "id": "IxFIb8QvalYh",
      "execution_count": 7,
      "outputs": []
    },
    {
      "cell_type": "code",
      "source": [
        "def plot(imgs, **imshow_kwargs):\n",
        "    if not isinstance(imgs[0], list):\n",
        "        # Make a 2d grid even if there's just 1 row\n",
        "        imgs = [imgs]\n",
        "\n",
        "    num_rows = len(imgs)\n",
        "    num_cols = len(imgs[0])\n",
        "    _, axs = plt.subplots(nrows=num_rows, ncols=num_cols, squeeze=False)\n",
        "    for row_idx, row in enumerate(imgs):\n",
        "        for col_idx, img in enumerate(row):\n",
        "            ax = axs[row_idx, col_idx]\n",
        "            img = F.to_pil_image(img.to(\"cpu\"))\n",
        "            ax.imshow(np.asarray(img), **imshow_kwargs)\n",
        "            ax.set(xticklabels=[], yticklabels=[], xticks=[], yticks=[])\n",
        "\n",
        "    plt.tight_layout()"
      ],
      "metadata": {
        "id": "lPEmNVeea5tS"
      },
      "id": "lPEmNVeea5tS",
      "execution_count": 8,
      "outputs": []
    },
    {
      "cell_type": "code",
      "source": [
        "#PLOTTING IMAGES\n",
        "rows = 1\n",
        "columns = 8\n",
        "\n",
        "fig = plt.figure(figsize=(20, 10))\n",
        "\n",
        "for i in range(num_im):\n",
        "  fig.add_subplot(rows, columns, i+1)\n",
        "  im = get_im(i)\n",
        "  plt.imshow(im, cmap='gray')\n",
        "  #plt.imshow(im)\n",
        "  plt.axis('off')\n",
        "  plt.title(str(i+1))"
      ],
      "metadata": {
        "colab": {
          "base_uri": "https://localhost:8080/",
          "height": 91
        },
        "id": "6Q1sNM5qPBgT",
        "outputId": "8b68aacc-873c-41d2-db95-bfd8a10bd6e0"
      },
      "id": "6Q1sNM5qPBgT",
      "execution_count": 9,
      "outputs": [
        {
          "output_type": "display_data",
          "data": {
            "text/plain": [
              "<Figure size 1440x720 with 8 Axes>"
            ],
            "image/png": "[encoded data removed]"
          },
          "metadata": {
            "needs_background": "light"
          }
        }
      ]
    },
    {
      "cell_type": "code",
      "execution_count": 10,
      "id": "c2b779a2",
      "metadata": {
        "id": "c2b779a2",
        "colab": {
          "base_uri": "https://localhost:8080/"
        },
        "outputId": "3d37e381-fcba-4b14-9531-f97079798d68"
      },
      "outputs": [
        {
          "output_type": "stream",
          "name": "stdout",
          "text": [
            "(600, 1600)\n",
            "(600, 1600)\n",
            "(1600, 600)\n",
            "(1600, 600)\n"
          ]
        }
      ],
      "source": [
        "imarray1 = np.array(im1)\n",
        "imarray2 = np.array(im2)\n",
        "print(imarray1.shape)\n",
        "print(imarray2.shape)\n",
        "print(im1.size)\n",
        "print(im2.size)"
      ]
    },
    {
      "cell_type": "code",
      "source": [
        "# convert image to tensor\n",
        "def img_totensor(i):\n",
        "  return ToTensor()(get_im(i))"
      ],
      "metadata": {
        "id": "5cYc7-_9zUhK"
      },
      "id": "5cYc7-_9zUhK",
      "execution_count": 11,
      "outputs": []
    },
    {
      "cell_type": "code",
      "execution_count": 14,
      "id": "aa048c2f",
      "metadata": {
        "id": "aa048c2f",
        "colab": {
          "base_uri": "https://localhost:8080/",
          "height": 425
        },
        "outputId": "53098269-bbc7-43a3-b5cd-28a261688ee2"
      },
      "outputs": [
        {
          "output_type": "error",
          "ename": "RuntimeError",
          "evalue": "ignored",
          "traceback": [
            "\u001b[0;31m---------------------------------------------------------------------------\u001b[0m",
            "\u001b[0;31mRuntimeError\u001b[0m                              Traceback (most recent call last)",
            "\u001b[0;32m<ipython-input-14-cb566c38b29d>\u001b[0m in \u001b[0;36m<module>\u001b[0;34m()\u001b[0m\n\u001b[1;32m     46\u001b[0m   \u001b[0mmodel\u001b[0m \u001b[0;34m=\u001b[0m \u001b[0mmodel\u001b[0m\u001b[0;34m.\u001b[0m\u001b[0meval\u001b[0m\u001b[0;34m(\u001b[0m\u001b[0;34m)\u001b[0m\u001b[0;34m\u001b[0m\u001b[0;34m\u001b[0m\u001b[0m\n\u001b[1;32m     47\u001b[0m \u001b[0;34m\u001b[0m\u001b[0m\n\u001b[0;32m---> 48\u001b[0;31m   \u001b[0mlist_of_flows\u001b[0m \u001b[0;34m=\u001b[0m \u001b[0mmodel\u001b[0m\u001b[0;34m(\u001b[0m\u001b[0mimg1_batch_t\u001b[0m\u001b[0;34m.\u001b[0m\u001b[0mto\u001b[0m\u001b[0;34m(\u001b[0m\u001b[0mdevice\u001b[0m\u001b[0;34m)\u001b[0m\u001b[0;34m,\u001b[0m \u001b[0mimg2_batch_t\u001b[0m\u001b[0;34m.\u001b[0m\u001b[0mto\u001b[0m\u001b[0;34m(\u001b[0m\u001b[0mdevice\u001b[0m\u001b[0;34m)\u001b[0m\u001b[0;34m)\u001b[0m\u001b[0;34m\u001b[0m\u001b[0;34m\u001b[0m\u001b[0m\n\u001b[0m\u001b[1;32m     49\u001b[0m   \u001b[0;31m#print(f\"type = {type(list_of_flows)}\")\u001b[0m\u001b[0;34m\u001b[0m\u001b[0;34m\u001b[0m\u001b[0;34m\u001b[0m\u001b[0m\n\u001b[1;32m     50\u001b[0m   \u001b[0;31m#print(f\"length = {len(list_of_flows)} = number of iterations of the model\")\u001b[0m\u001b[0;34m\u001b[0m\u001b[0;34m\u001b[0m\u001b[0;34m\u001b[0m\u001b[0m\n",
            "\u001b[0;32m/usr/local/lib/python3.7/dist-packages/torch/nn/modules/module.py\u001b[0m in \u001b[0;36m_call_impl\u001b[0;34m(self, *input, **kwargs)\u001b[0m\n\u001b[1;32m   1108\u001b[0m         if not (self._backward_hooks or self._forward_hooks or self._forward_pre_hooks or _global_backward_hooks\n\u001b[1;32m   1109\u001b[0m                 or _global_forward_hooks or _global_forward_pre_hooks):\n\u001b[0;32m-> 1110\u001b[0;31m             \u001b[0;32mreturn\u001b[0m \u001b[0mforward_call\u001b[0m\u001b[0;34m(\u001b[0m\u001b[0;34m*\u001b[0m\u001b[0minput\u001b[0m\u001b[0;34m,\u001b[0m \u001b[0;34m**\u001b[0m\u001b[0mkwargs\u001b[0m\u001b[0;34m)\u001b[0m\u001b[0;34m\u001b[0m\u001b[0;34m\u001b[0m\u001b[0m\n\u001b[0m\u001b[1;32m   1111\u001b[0m         \u001b[0;31m# Do not call functions when jit is used\u001b[0m\u001b[0;34m\u001b[0m\u001b[0;34m\u001b[0m\u001b[0;34m\u001b[0m\u001b[0m\n\u001b[1;32m   1112\u001b[0m         \u001b[0mfull_backward_hooks\u001b[0m\u001b[0;34m,\u001b[0m \u001b[0mnon_full_backward_hooks\u001b[0m \u001b[0;34m=\u001b[0m \u001b[0;34m[\u001b[0m\u001b[0;34m]\u001b[0m\u001b[0;34m,\u001b[0m \u001b[0;34m[\u001b[0m\u001b[0;34m]\u001b[0m\u001b[0;34m\u001b[0m\u001b[0;34m\u001b[0m\u001b[0m\n",
            "\u001b[0;32m/usr/local/lib/python3.7/dist-packages/torchvision/models/optical_flow/raft.py\u001b[0m in \u001b[0;36mforward\u001b[0;34m(self, image1, image2, num_flow_updates)\u001b[0m\n\u001b[1;32m    456\u001b[0m         \u001b[0mtorch\u001b[0m\u001b[0;34m.\u001b[0m\u001b[0m_assert\u001b[0m\u001b[0;34m(\u001b[0m\u001b[0;34m(\u001b[0m\u001b[0mh\u001b[0m \u001b[0;34m%\u001b[0m \u001b[0;36m8\u001b[0m \u001b[0;34m==\u001b[0m \u001b[0;36m0\u001b[0m\u001b[0;34m)\u001b[0m \u001b[0;32mand\u001b[0m \u001b[0;34m(\u001b[0m\u001b[0mw\u001b[0m \u001b[0;34m%\u001b[0m \u001b[0;36m8\u001b[0m \u001b[0;34m==\u001b[0m \u001b[0;36m0\u001b[0m\u001b[0;34m)\u001b[0m\u001b[0;34m,\u001b[0m \u001b[0;34m\"input image H and W should be divisible by 8\"\u001b[0m\u001b[0;34m)\u001b[0m\u001b[0;34m\u001b[0m\u001b[0;34m\u001b[0m\u001b[0m\n\u001b[1;32m    457\u001b[0m \u001b[0;34m\u001b[0m\u001b[0m\n\u001b[0;32m--> 458\u001b[0;31m         \u001b[0mfmaps\u001b[0m \u001b[0;34m=\u001b[0m \u001b[0mself\u001b[0m\u001b[0;34m.\u001b[0m\u001b[0mfeature_encoder\u001b[0m\u001b[0;34m(\u001b[0m\u001b[0mtorch\u001b[0m\u001b[0;34m.\u001b[0m\u001b[0mcat\u001b[0m\u001b[0;34m(\u001b[0m\u001b[0;34m[\u001b[0m\u001b[0mimage1\u001b[0m\u001b[0;34m,\u001b[0m \u001b[0mimage2\u001b[0m\u001b[0;34m]\u001b[0m\u001b[0;34m,\u001b[0m \u001b[0mdim\u001b[0m\u001b[0;34m=\u001b[0m\u001b[0;36m0\u001b[0m\u001b[0;34m)\u001b[0m\u001b[0;34m)\u001b[0m\u001b[0;34m\u001b[0m\u001b[0;34m\u001b[0m\u001b[0m\n\u001b[0m\u001b[1;32m    459\u001b[0m         \u001b[0mfmap1\u001b[0m\u001b[0;34m,\u001b[0m \u001b[0mfmap2\u001b[0m \u001b[0;34m=\u001b[0m \u001b[0mtorch\u001b[0m\u001b[0;34m.\u001b[0m\u001b[0mchunk\u001b[0m\u001b[0;34m(\u001b[0m\u001b[0mfmaps\u001b[0m\u001b[0;34m,\u001b[0m \u001b[0mchunks\u001b[0m\u001b[0;34m=\u001b[0m\u001b[0;36m2\u001b[0m\u001b[0;34m,\u001b[0m \u001b[0mdim\u001b[0m\u001b[0;34m=\u001b[0m\u001b[0;36m0\u001b[0m\u001b[0;34m)\u001b[0m\u001b[0;34m\u001b[0m\u001b[0;34m\u001b[0m\u001b[0m\n\u001b[1;32m    460\u001b[0m         \u001b[0mtorch\u001b[0m\u001b[0;34m.\u001b[0m\u001b[0m_assert\u001b[0m\u001b[0;34m(\u001b[0m\u001b[0mfmap1\u001b[0m\u001b[0;34m.\u001b[0m\u001b[0mshape\u001b[0m\u001b[0;34m[\u001b[0m\u001b[0;34m-\u001b[0m\u001b[0;36m2\u001b[0m\u001b[0;34m:\u001b[0m\u001b[0;34m]\u001b[0m \u001b[0;34m==\u001b[0m \u001b[0;34m(\u001b[0m\u001b[0mh\u001b[0m \u001b[0;34m//\u001b[0m \u001b[0;36m8\u001b[0m\u001b[0;34m,\u001b[0m \u001b[0mw\u001b[0m \u001b[0;34m//\u001b[0m \u001b[0;36m8\u001b[0m\u001b[0;34m)\u001b[0m\u001b[0;34m,\u001b[0m \u001b[0;34m\"The feature encoder should downsample H and W by 8\"\u001b[0m\u001b[0;34m)\u001b[0m\u001b[0;34m\u001b[0m\u001b[0;34m\u001b[0m\u001b[0m\n",
            "\u001b[0;32m/usr/local/lib/python3.7/dist-packages/torch/nn/modules/module.py\u001b[0m in \u001b[0;36m_call_impl\u001b[0;34m(self, *input, **kwargs)\u001b[0m\n\u001b[1;32m   1108\u001b[0m         if not (self._backward_hooks or self._forward_hooks or self._forward_pre_hooks or _global_backward_hooks\n\u001b[1;32m   1109\u001b[0m                 or _global_forward_hooks or _global_forward_pre_hooks):\n\u001b[0;32m-> 1110\u001b[0;31m             \u001b[0;32mreturn\u001b[0m \u001b[0mforward_call\u001b[0m\u001b[0;34m(\u001b[0m\u001b[0;34m*\u001b[0m\u001b[0minput\u001b[0m\u001b[0;34m,\u001b[0m \u001b[0;34m**\u001b[0m\u001b[0mkwargs\u001b[0m\u001b[0;34m)\u001b[0m\u001b[0;34m\u001b[0m\u001b[0;34m\u001b[0m\u001b[0m\n\u001b[0m\u001b[1;32m   1111\u001b[0m         \u001b[0;31m# Do not call functions when jit is used\u001b[0m\u001b[0;34m\u001b[0m\u001b[0;34m\u001b[0m\u001b[0;34m\u001b[0m\u001b[0m\n\u001b[1;32m   1112\u001b[0m         \u001b[0mfull_backward_hooks\u001b[0m\u001b[0;34m,\u001b[0m \u001b[0mnon_full_backward_hooks\u001b[0m \u001b[0;34m=\u001b[0m \u001b[0;34m[\u001b[0m\u001b[0;34m]\u001b[0m\u001b[0;34m,\u001b[0m \u001b[0;34m[\u001b[0m\u001b[0;34m]\u001b[0m\u001b[0;34m\u001b[0m\u001b[0;34m\u001b[0m\u001b[0m\n",
            "\u001b[0;32m/usr/local/lib/python3.7/dist-packages/torchvision/models/optical_flow/raft.py\u001b[0m in \u001b[0;36mforward\u001b[0;34m(self, x)\u001b[0m\n\u001b[1;32m    148\u001b[0m \u001b[0;34m\u001b[0m\u001b[0m\n\u001b[1;32m    149\u001b[0m     \u001b[0;32mdef\u001b[0m \u001b[0mforward\u001b[0m\u001b[0;34m(\u001b[0m\u001b[0mself\u001b[0m\u001b[0;34m,\u001b[0m \u001b[0mx\u001b[0m\u001b[0;34m)\u001b[0m\u001b[0;34m:\u001b[0m\u001b[0;34m\u001b[0m\u001b[0;34m\u001b[0m\u001b[0m\n\u001b[0;32m--> 150\u001b[0;31m         \u001b[0mx\u001b[0m \u001b[0;34m=\u001b[0m \u001b[0mself\u001b[0m\u001b[0;34m.\u001b[0m\u001b[0mconvnormrelu\u001b[0m\u001b[0;34m(\u001b[0m\u001b[0mx\u001b[0m\u001b[0;34m)\u001b[0m\u001b[0;34m\u001b[0m\u001b[0;34m\u001b[0m\u001b[0m\n\u001b[0m\u001b[1;32m    151\u001b[0m \u001b[0;34m\u001b[0m\u001b[0m\n\u001b[1;32m    152\u001b[0m         \u001b[0mx\u001b[0m \u001b[0;34m=\u001b[0m \u001b[0mself\u001b[0m\u001b[0;34m.\u001b[0m\u001b[0mlayer1\u001b[0m\u001b[0;34m(\u001b[0m\u001b[0mx\u001b[0m\u001b[0;34m)\u001b[0m\u001b[0;34m\u001b[0m\u001b[0;34m\u001b[0m\u001b[0m\n",
            "\u001b[0;32m/usr/local/lib/python3.7/dist-packages/torch/nn/modules/module.py\u001b[0m in \u001b[0;36m_call_impl\u001b[0;34m(self, *input, **kwargs)\u001b[0m\n\u001b[1;32m   1108\u001b[0m         if not (self._backward_hooks or self._forward_hooks or self._forward_pre_hooks or _global_backward_hooks\n\u001b[1;32m   1109\u001b[0m                 or _global_forward_hooks or _global_forward_pre_hooks):\n\u001b[0;32m-> 1110\u001b[0;31m             \u001b[0;32mreturn\u001b[0m \u001b[0mforward_call\u001b[0m\u001b[0;34m(\u001b[0m\u001b[0;34m*\u001b[0m\u001b[0minput\u001b[0m\u001b[0;34m,\u001b[0m \u001b[0;34m**\u001b[0m\u001b[0mkwargs\u001b[0m\u001b[0;34m)\u001b[0m\u001b[0;34m\u001b[0m\u001b[0;34m\u001b[0m\u001b[0m\n\u001b[0m\u001b[1;32m   1111\u001b[0m         \u001b[0;31m# Do not call functions when jit is used\u001b[0m\u001b[0;34m\u001b[0m\u001b[0;34m\u001b[0m\u001b[0;34m\u001b[0m\u001b[0m\n\u001b[1;32m   1112\u001b[0m         \u001b[0mfull_backward_hooks\u001b[0m\u001b[0;34m,\u001b[0m \u001b[0mnon_full_backward_hooks\u001b[0m \u001b[0;34m=\u001b[0m \u001b[0;34m[\u001b[0m\u001b[0;34m]\u001b[0m\u001b[0;34m,\u001b[0m \u001b[0;34m[\u001b[0m\u001b[0;34m]\u001b[0m\u001b[0;34m\u001b[0m\u001b[0;34m\u001b[0m\u001b[0m\n",
            "\u001b[0;32m/usr/local/lib/python3.7/dist-packages/torch/nn/modules/container.py\u001b[0m in \u001b[0;36mforward\u001b[0;34m(self, input)\u001b[0m\n\u001b[1;32m    139\u001b[0m     \u001b[0;32mdef\u001b[0m \u001b[0mforward\u001b[0m\u001b[0;34m(\u001b[0m\u001b[0mself\u001b[0m\u001b[0;34m,\u001b[0m \u001b[0minput\u001b[0m\u001b[0;34m)\u001b[0m\u001b[0;34m:\u001b[0m\u001b[0;34m\u001b[0m\u001b[0;34m\u001b[0m\u001b[0m\n\u001b[1;32m    140\u001b[0m         \u001b[0;32mfor\u001b[0m \u001b[0mmodule\u001b[0m \u001b[0;32min\u001b[0m \u001b[0mself\u001b[0m\u001b[0;34m:\u001b[0m\u001b[0;34m\u001b[0m\u001b[0;34m\u001b[0m\u001b[0m\n\u001b[0;32m--> 141\u001b[0;31m             \u001b[0minput\u001b[0m \u001b[0;34m=\u001b[0m \u001b[0mmodule\u001b[0m\u001b[0;34m(\u001b[0m\u001b[0minput\u001b[0m\u001b[0;34m)\u001b[0m\u001b[0;34m\u001b[0m\u001b[0;34m\u001b[0m\u001b[0m\n\u001b[0m\u001b[1;32m    142\u001b[0m         \u001b[0;32mreturn\u001b[0m \u001b[0minput\u001b[0m\u001b[0;34m\u001b[0m\u001b[0;34m\u001b[0m\u001b[0m\n\u001b[1;32m    143\u001b[0m \u001b[0;34m\u001b[0m\u001b[0m\n",
            "\u001b[0;32m/usr/local/lib/python3.7/dist-packages/torch/nn/modules/module.py\u001b[0m in \u001b[0;36m_call_impl\u001b[0;34m(self, *input, **kwargs)\u001b[0m\n\u001b[1;32m   1108\u001b[0m         if not (self._backward_hooks or self._forward_hooks or self._forward_pre_hooks or _global_backward_hooks\n\u001b[1;32m   1109\u001b[0m                 or _global_forward_hooks or _global_forward_pre_hooks):\n\u001b[0;32m-> 1110\u001b[0;31m             \u001b[0;32mreturn\u001b[0m \u001b[0mforward_call\u001b[0m\u001b[0;34m(\u001b[0m\u001b[0;34m*\u001b[0m\u001b[0minput\u001b[0m\u001b[0;34m,\u001b[0m \u001b[0;34m**\u001b[0m\u001b[0mkwargs\u001b[0m\u001b[0;34m)\u001b[0m\u001b[0;34m\u001b[0m\u001b[0;34m\u001b[0m\u001b[0m\n\u001b[0m\u001b[1;32m   1111\u001b[0m         \u001b[0;31m# Do not call functions when jit is used\u001b[0m\u001b[0;34m\u001b[0m\u001b[0;34m\u001b[0m\u001b[0;34m\u001b[0m\u001b[0m\n\u001b[1;32m   1112\u001b[0m         \u001b[0mfull_backward_hooks\u001b[0m\u001b[0;34m,\u001b[0m \u001b[0mnon_full_backward_hooks\u001b[0m \u001b[0;34m=\u001b[0m \u001b[0;34m[\u001b[0m\u001b[0;34m]\u001b[0m\u001b[0;34m,\u001b[0m \u001b[0;34m[\u001b[0m\u001b[0;34m]\u001b[0m\u001b[0;34m\u001b[0m\u001b[0;34m\u001b[0m\u001b[0m\n",
            "\u001b[0;32m/usr/local/lib/python3.7/dist-packages/torch/nn/modules/conv.py\u001b[0m in \u001b[0;36mforward\u001b[0;34m(self, input)\u001b[0m\n\u001b[1;32m    445\u001b[0m \u001b[0;34m\u001b[0m\u001b[0m\n\u001b[1;32m    446\u001b[0m     \u001b[0;32mdef\u001b[0m \u001b[0mforward\u001b[0m\u001b[0;34m(\u001b[0m\u001b[0mself\u001b[0m\u001b[0;34m,\u001b[0m \u001b[0minput\u001b[0m\u001b[0;34m:\u001b[0m \u001b[0mTensor\u001b[0m\u001b[0;34m)\u001b[0m \u001b[0;34m->\u001b[0m \u001b[0mTensor\u001b[0m\u001b[0;34m:\u001b[0m\u001b[0;34m\u001b[0m\u001b[0;34m\u001b[0m\u001b[0m\n\u001b[0;32m--> 447\u001b[0;31m         \u001b[0;32mreturn\u001b[0m \u001b[0mself\u001b[0m\u001b[0;34m.\u001b[0m\u001b[0m_conv_forward\u001b[0m\u001b[0;34m(\u001b[0m\u001b[0minput\u001b[0m\u001b[0;34m,\u001b[0m \u001b[0mself\u001b[0m\u001b[0;34m.\u001b[0m\u001b[0mweight\u001b[0m\u001b[0;34m,\u001b[0m \u001b[0mself\u001b[0m\u001b[0;34m.\u001b[0m\u001b[0mbias\u001b[0m\u001b[0;34m)\u001b[0m\u001b[0;34m\u001b[0m\u001b[0;34m\u001b[0m\u001b[0m\n\u001b[0m\u001b[1;32m    448\u001b[0m \u001b[0;34m\u001b[0m\u001b[0m\n\u001b[1;32m    449\u001b[0m \u001b[0;32mclass\u001b[0m \u001b[0mConv3d\u001b[0m\u001b[0;34m(\u001b[0m\u001b[0m_ConvNd\u001b[0m\u001b[0;34m)\u001b[0m\u001b[0;34m:\u001b[0m\u001b[0;34m\u001b[0m\u001b[0;34m\u001b[0m\u001b[0m\n",
            "\u001b[0;32m/usr/local/lib/python3.7/dist-packages/torch/nn/modules/conv.py\u001b[0m in \u001b[0;36m_conv_forward\u001b[0;34m(self, input, weight, bias)\u001b[0m\n\u001b[1;32m    442\u001b[0m                             _pair(0), self.dilation, self.groups)\n\u001b[1;32m    443\u001b[0m         return F.conv2d(input, weight, bias, self.stride,\n\u001b[0;32m--> 444\u001b[0;31m                         self.padding, self.dilation, self.groups)\n\u001b[0m\u001b[1;32m    445\u001b[0m \u001b[0;34m\u001b[0m\u001b[0m\n\u001b[1;32m    446\u001b[0m     \u001b[0;32mdef\u001b[0m \u001b[0mforward\u001b[0m\u001b[0;34m(\u001b[0m\u001b[0mself\u001b[0m\u001b[0;34m,\u001b[0m \u001b[0minput\u001b[0m\u001b[0;34m:\u001b[0m \u001b[0mTensor\u001b[0m\u001b[0;34m)\u001b[0m \u001b[0;34m->\u001b[0m \u001b[0mTensor\u001b[0m\u001b[0;34m:\u001b[0m\u001b[0;34m\u001b[0m\u001b[0;34m\u001b[0m\u001b[0m\n",
            "\u001b[0;31mRuntimeError\u001b[0m: CUDA out of memory. Tried to allocate 206.00 MiB (GPU 0; 11.17 GiB total capacity; 10.57 GiB already allocated; 111.19 MiB free; 10.65 GiB reserved in total by PyTorch) If reserved memory is >> allocated memory try setting max_split_size_mb to avoid fragmentation.  See documentation for Memory Management and PYTORCH_CUDA_ALLOC_CONF"
          ]
        }
      ],
      "source": [
        "#Setting up for a for loop:\n",
        "gridlist=[]\n",
        "\n",
        "for i in range(1): #change to range(1) to only run once\n",
        "  #we'll end up with seven of these for im1 + im2, im2 + im3, etc...\n",
        "  img1_batch=ToTensor()(get_im(i))\n",
        "  img2_batch=ToTensor()(get_im(i+1))\n",
        "  img3_batch = torch.stack([img1_batch, img2_batch, img_totensor(i+2), img_totensor(i+3), img_totensor(i+4), img_totensor(i+5), img_totensor(i+6)])\n",
        "  img4_batch = torch.stack([img2_batch, img_totensor(i+2), img_totensor(i+3), img_totensor(i+4), img_totensor(i+5), img_totensor(i+6), img_totensor(i+7)])\n",
        "\n",
        "  def preprocess(batch):\n",
        "      transforms = T.Compose(\n",
        "          [\n",
        "              T.ConvertImageDtype(torch.float32),\n",
        "              T.Normalize(mean=0.5, std=0.5),  # map [0, 1] into [-1, 1]\n",
        "              T.Resize(size=(800, 600)),\n",
        "          ]\n",
        "      )\n",
        "      batch = transforms(batch)\n",
        "      return batch\n",
        "\n",
        "\n",
        "  # If you can, run this example on a GPU, it will be a lot faster.\n",
        "  device = \"cuda\" if torch.cuda.is_available() else \"cpu\"\n",
        "\n",
        "  img1_batch_t = preprocess(img3_batch).to(device)\n",
        "  img2_batch_t = preprocess(img4_batch).to(device)\n",
        "\n",
        "  #print(f\"shape = {img1_batch.shape}, dtype = {img1_batch.dtype}\")\n",
        "\n",
        "  img1_batch_t = img1_batch_t.repeat(1,3,1,1)\n",
        "  img2_batch_t = img2_batch_t.repeat(1,3,1,1)\n",
        "  #print(f\"shape = {img1_batch_t.shape}, dtype = {img1_batch_t.dtype}\")\n",
        "  #img1_batch_t=img1_batch_t[None,:, :,:]\n",
        "  #img2_batch_t=img2_batch_t[None,:, :,:]\n",
        "\n",
        "  #print(f\"shape = {img1_batch_t.shape}, dtype = {img1_batch_t.dtype}\")\n",
        "  #print(f\"shape = {img2_batch_t.shape}, dtype = {img2_batch_t.dtype}\")\n",
        "\n",
        "  #print(f\"shape = {img2_batch.shape}, dtype = {img2_batch.dtype}\")\n",
        "  model = raft_small(pretrained=True, progress=False).to(device)\n",
        "  #model_summary(model)\n",
        "  #model_vals=[layer for layer in model.parameters()]\n",
        "  #print(model_vals)\n",
        "  #print(model.parameters)\n",
        "  model = model.eval()\n",
        "\n",
        "  list_of_flows = model(img1_batch_t.to(device), img2_batch_t.to(device))\n",
        "  #print(f\"type = {type(list_of_flows)}\")\n",
        "  #print(f\"length = {len(list_of_flows)} = number of iterations of the model\")\n",
        "  predicted_flows = list_of_flows[-1]\n",
        "  #print(f\"dtype = {predicted_flows.dtype}\")\n",
        "  #print(f\"shape = {predicted_flows.shape} = (N, 2, H, W)\")\n",
        "  #print(f\"min = {predicted_flows.min()}, max = {predicted_flows.max()}\")\n",
        "\n",
        "  flow_imgs = flow_to_image(predicted_flows)\n",
        "\n",
        "  # The images have been mapped into [-1, 1] but for plotting we want them in [0, 1]\n",
        "  img1_batch = [(img1 + 1) / 2 for img1 in img1_batch_t]\n",
        "\n",
        "  grid = [[img1, flow_img] for (img1, flow_img) in zip(img1_batch, flow_imgs)]\n",
        "  #grid = [img1_batch[0], flow_imgs[0]]\n",
        "  gridlist.append(grid)\n",
        "  #plot(grid)\n",
        "  \n",
        "for i in range(len(grid)):\n",
        "  grid = [img1_batch[i], flow_imgs[i]]\n",
        "  plot(grid)\n",
        "#grid=[img1_batch[0+1], flow_imgs[0+1]]\n",
        "#gridlist.append(grid)\n",
        "\n",
        "transposed_tuples = list(zip(*gridlist))\n",
        "transposed = [list(sublist) for sublist in transposed_tuples]\n",
        "\n",
        "\n",
        "plt.rcParams[\"figure.figsize\"] = (20,5)\n",
        "#plot(transposed)\n",
        "\n",
        "#plot(gridlist)"
      ]
    },
    {
      "cell_type": "code",
      "source": [
        "print(len(gridlist[:]))"
      ],
      "metadata": {
        "id": "3_pHsaDySTKx"
      },
      "id": "3_pHsaDySTKx",
      "execution_count": null,
      "outputs": []
    },
    {
      "cell_type": "code",
      "source": [
        "# img1_batch=ToTensor()(im1)\n",
        "# img2_batch=ToTensor()(im2)\n",
        "# img3_batch = torch.stack([img1_batch, img2_batch])\n",
        "# img4_batch = torch.stack([img1_batch, img2_batch])\n",
        "# def preprocess(batch):\n",
        "#     transforms = T.Compose(\n",
        "#         [\n",
        "#             T.ConvertImageDtype(torch.float32),\n",
        "#             T.Normalize(mean=0.5, std=0.5),  # map [0, 1] into [-1, 1]\n",
        "#             T.Resize(size=(128, 128)),\n",
        "#         ]\n",
        "#     )\n",
        "#     batch = transforms(batch)\n",
        "#     return batch\n",
        "\n",
        "\n",
        "# # If you can, run this example on a GPU, it will be a lot faster.\n",
        "# device = \"cuda\" if torch.cuda.is_available() else \"cpu\"\n",
        "\n",
        "# img1_batch_t = preprocess(img3_batch).to(device)\n",
        "# img2_batch_t = preprocess(img4_batch).to(device)\n",
        "\n",
        "# print(f\"shape = {img1_batch.shape}, dtype = {img1_batch.dtype}\")\n",
        "\n",
        "# img1_batch_t = img1_batch_t.repeat(1,3,1,1)\n",
        "# img2_batch_t = img2_batch_t.repeat(1,3,1,1)\n",
        "# #print(f\"shape = {img1_batch_t.shape}, dtype = {img1_batch_t.dtype}\")\n",
        "# #img1_batch_t=img1_batch_t[None,:, :,:]\n",
        "# #img2_batch_t=img2_batch_t[None,:, :,:]\n",
        "\n",
        "# print(f\"shape = {img1_batch_t.shape}, dtype = {img1_batch_t.dtype}\")\n",
        "# print(f\"shape = {img2_batch_t.shape}, dtype = {img2_batch_t.dtype}\")\n",
        "\n",
        "# print(f\"shape = {img2_batch.shape}, dtype = {img2_batch.dtype}\")\n",
        "# model = raft_small(pretrained=True, progress=False).to(device)\n",
        "# #model_summary(model)\n",
        "# #model_vals=[layer for layer in model.parameters()]\n",
        "# #print(model_vals)\n",
        "# #print(model.parameters)\n",
        "# model = model.eval()\n",
        "\n",
        "# list_of_flows = model(img1_batch_t.to(device), img2_batch_t.to(device))\n",
        "# print(f\"type = {type(list_of_flows)}\")\n",
        "# print(f\"length = {len(list_of_flows)} = number of iterations of the model\")\n",
        "# predicted_flows = list_of_flows[-1]\n",
        "# print(f\"dtype = {predicted_flows.dtype}\")\n",
        "# print(f\"shape = {predicted_flows.shape} = (N, 2, H, W)\")\n",
        "# print(f\"min = {predicted_flows.min()}, max = {predicted_flows.max()}\")\n",
        "\n",
        "# flow_imgs = flow_to_image(predicted_flows)\n",
        "\n",
        "# # The images have been mapped into [-1, 1] but for plotting we want them in [0, 1]\n",
        "# img1_batch = [(img1 + 1) / 2 for img1 in img1_batch_t]\n",
        "\n",
        "# grid = [[img1, flow_img] for (img1, flow_img) in zip(img1_batch, flow_imgs)]\n",
        "# plot(grid)"
      ],
      "metadata": {
        "id": "_5r0Tfp4bFcF"
      },
      "id": "_5r0Tfp4bFcF",
      "execution_count": null,
      "outputs": []
    }
  ],
  "metadata": {
    "kernelspec": {
      "display_name": "Python 3",
      "language": "python",
      "name": "python3"
    },
    "language_info": {
      "codemirror_mode": {
        "name": "ipython",
        "version": 3
      },
      "file_extension": ".py",
      "mimetype": "text/x-python",
      "name": "python",
      "nbconvert_exporter": "python",
      "pygments_lexer": "ipython3",
      "version": "3.8.10"
    },
    "colab": {
      "name": "RAFT_RH.ipynb",
      "provenance": [],
      "machine_shape": "hm",
      "collapsed_sections": []
    },
    "accelerator": "GPU"
  },
  "nbformat": 4,
  "nbformat_minor": 5
}