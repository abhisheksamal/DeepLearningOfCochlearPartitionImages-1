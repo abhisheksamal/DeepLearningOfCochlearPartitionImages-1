{
  "nbformat": 4,
  "nbformat_minor": 0,
  "metadata": {
    "colab": {
      "name": "LAZRhelpers.ipynb",
      "provenance": [],
      "authorship_tag": "ABX9TyN7SdYtd4xBvbUtqW+2GXTm",
      "include_colab_link": true
    },
    "kernelspec": {
      "name": "python3",
      "display_name": "Python 3"
    },
    "language_info": {
      "name": "python"
    }
  },
  "cells": [
    {
      "cell_type": "markdown",
      "metadata": {
        "id": "view-in-github",
        "colab_type": "text"
      },
      "source": [
        "<a href=\"https://colab.research.google.com/github/EkZosuls/DeepLearningOfCochlearPartitionImages/blob/main/LAZRhelpers.ipynb\" target=\"_parent\"><img src=\"https://colab.research.google.com/assets/colab-badge.svg\" alt=\"Open In Colab\"/></a>"
      ]
    },
    {
      "cell_type": "code",
      "execution_count": 99,
      "metadata": {
        "colab": {
          "base_uri": "https://localhost:8080/"
        },
        "id": "bs0VfORf8Ja0",
        "outputId": "ce3d7e65-6f3c-4730-e3ab-950f7291f24b"
      },
      "outputs": [
        {
          "output_type": "stream",
          "name": "stdout",
          "text": [
            "Drive already mounted at /content/drive; to attempt to forcibly remount, call drive.mount(\"/content/drive\", force_remount=True).\n",
            "\u001b[0m\u001b[01;34mdrive\u001b[0m/  \u001b[01;34msample_data\u001b[0m/\n"
          ]
        }
      ],
      "source": [
        "import scipy.io as sio\n",
        "import numpy as np\n",
        "from google.colab import drive\n",
        "drive.mount('/content/drive')\n",
        "%ls"
      ]
    },
    {
      "cell_type": "code",
      "source": [
        "basePathName = \"/content/drive/MyDrive/coch_data/\"\n",
        "\n",
        "fftReconFile = \"2012_03_22_mu307_20120322T114453_ssxcorr_64_IHCSS_y_L1_FFTreconRAW\"\n",
        "#print(basePathName + fftReconFile)\n",
        "fftReconContents = sio.loadmat(basePathName + fftReconFile, squeeze_me=True)\n",
        "for i in range(len(fftReconContents['myROI'])):\n",
        "  print(len(fftReconContents['myROI']))\n",
        "  print(fftReconContents['myROI'][i].item())\n",
        "dog = fftReconContents['myROI'][0].item()\n",
        "xCenter = dog[6]\n",
        "yCenter = dog[7]\n",
        "dx = dog[4]\n",
        "dy =dog[5]\n",
        "print(xCenter)"
      ],
      "metadata": {
        "id": "qLOF1pIoDxqu"
      },
      "execution_count": null,
      "outputs": []
    },
    {
      "cell_type": "code",
      "source": [
        "# A class that loads and parses the information in a Laura style FFTReconRaw file\n",
        "class getFFTAnalysisData():\n",
        "  def __init__(self, filePath, filename):\n",
        "    self.fftReconContents = sio.loadmat(filePath + filename, squeeze_me=True)\n",
        "    self.numROIs = len(fftReconContents['myROI'])\n",
        "    print(self.numROIs)\n",
        "    #self.MYROI = fftReconContents['myROI'][0].item()\n",
        "\n",
        "  def getROICoords(self, indexx):\n",
        "    try:\n",
        "      dog = self.fftReconContents['myROI'][indexx].item()\n",
        "\n",
        "    except ValueError as err:\n",
        "      print(\"ROI range not valid\")\n",
        "    return dog[6], dog[7], dog[4], dog[5]\n",
        "\n",
        "  def getROItype(self, indexx):\n",
        "    dog = self.fftReconContents['myROI'][indexx].item()\n",
        "    return dog[0]\n",
        "\n",
        "  def getFFTmagY(self):\n",
        "    dog = self.fftReconContents['data'].item()\n",
        "    doog = np.array(dog)\n",
        "    print(doog[1].shape)\n",
        "    return doog[1]\n",
        "\n",
        "  def getFrequencies(self):\n",
        "    dog = self.fftReconContents['data'].item()\n",
        "    doog = np.array(dog)\n",
        "    return doog[4]\n"
      ],
      "metadata": {
        "id": "J8eZ5p0oIk79"
      },
      "execution_count": 135,
      "outputs": []
    },
    {
      "cell_type": "code",
      "source": [
        "mu307 = getFFTAnalysisData(basePathName, fftReconFile)"
      ],
      "metadata": {
        "colab": {
          "base_uri": "https://localhost:8080/"
        },
        "id": "vkUXcCVwMc-G",
        "outputId": "24a13b86-9ec3-4cff-fc24-7a56d5f0efb5"
      },
      "execution_count": 136,
      "outputs": [
        {
          "output_type": "stream",
          "name": "stdout",
          "text": [
            "27\n"
          ]
        }
      ]
    },
    {
      "cell_type": "code",
      "source": [
        "mu307.getROICoords(8)\n",
        "#print(mu307.getROICoords(8))\n",
        "#print(mu307.getROItype(8))"
      ],
      "metadata": {
        "colab": {
          "base_uri": "https://localhost:8080/"
        },
        "id": "9ei_BNbDMp6a",
        "outputId": "70a74f76-1d82-4f6d-a43a-2222ffa497c7"
      },
      "execution_count": 80,
      "outputs": [
        {
          "output_type": "execute_result",
          "data": {
            "text/plain": [
              "(569, 189, 64, 64)"
            ]
          },
          "metadata": {},
          "execution_count": 80
        }
      ]
    },
    {
      "cell_type": "code",
      "source": [
        "var = mu307.getFrequencies()\n",
        "print(var)"
      ],
      "metadata": {
        "colab": {
          "base_uri": "https://localhost:8080/"
        },
        "id": "VL385J_tQr8A",
        "outputId": "84cd5f0d-0f70-4a49-ec86-d47863eb3d52"
      },
      "execution_count": 137,
      "outputs": [
        {
          "output_type": "stream",
          "name": "stdout",
          "text": [
            "[10000  1000    10 12000 15000  1500 18000 20000  2000  2500   250  3000\n",
            "  3500  4000  4500  5000   500    50  5500  6000  6500  7000]\n"
          ]
        },
        {
          "output_type": "stream",
          "name": "stderr",
          "text": [
            "/usr/local/lib/python3.7/dist-packages/ipykernel_launcher.py:28: VisibleDeprecationWarning: Creating an ndarray from ragged nested sequences (which is a list-or-tuple of lists-or-tuples-or ndarrays with different lengths or shapes) is deprecated. If you meant to do this, you must specify 'dtype=object' when creating the ndarray.\n"
          ]
        }
      ]
    }
  ]
}