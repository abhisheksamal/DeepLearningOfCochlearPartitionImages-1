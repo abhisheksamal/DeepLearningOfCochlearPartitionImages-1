{
  "nbformat": 4,
  "nbformat_minor": 0,
  "metadata": {
    "colab": {
      "name": "LAZRhelpers.ipynb",
      "provenance": [],
      "authorship_tag": "ABX9TyOauoi/4mqk4h0NlYqfjyoy",
      "include_colab_link": true
    },
    "kernelspec": {
      "name": "python3",
      "display_name": "Python 3"
    },
    "language_info": {
      "name": "python"
    }
  },
  "cells": [
    {
      "cell_type": "markdown",
      "metadata": {
        "id": "view-in-github",
        "colab_type": "text"
      },
      "source": [
        "<a href=\"https://colab.research.google.com/github/EkZosuls/DeepLearningOfCochlearPartitionImages/blob/main/LAZRhelpers.ipynb\" target=\"_parent\"><img src=\"https://colab.research.google.com/assets/colab-badge.svg\" alt=\"Open In Colab\"/></a>"
      ]
    },
    {
      "cell_type": "code",
      "execution_count": null,
      "metadata": {
        "colab": {
          "base_uri": "https://localhost:8080/"
        },
        "id": "bs0VfORf8Ja0",
        "outputId": "ce3d7e65-6f3c-4730-e3ab-950f7291f24b"
      },
      "outputs": [
        {
          "output_type": "stream",
          "name": "stdout",
          "text": [
            "Drive already mounted at /content/drive; to attempt to forcibly remount, call drive.mount(\"/content/drive\", force_remount=True).\n",
            "\u001b[0m\u001b[01;34mdrive\u001b[0m/  \u001b[01;34msample_data\u001b[0m/\n"
          ]
        }
      ],
      "source": [
        "import scipy.io as sio\n",
        "import numpy as np\n",
        "from google.colab import drive\n",
        "drive.mount('/content/drive')\n",
        "%ls"
      ]
    },
    {
      "cell_type": "code",
      "source": [
        "basePathName = \"/content/drive/MyDrive/coch_data/\"\n",
        "\n",
        "fftReconFile = \"2012_03_22_mu307_20120322T114453_ssxcorr_64_IHCSS_y_L1_FFTreconRAW\"\n",
        "#print(basePathName + fftReconFile)\n",
        "fftReconContents = sio.loadmat(basePathName + fftReconFile, squeeze_me=True)\n",
        "for i in range(len(fftReconContents['myROI'])):\n",
        "  print(len(fftReconContents['myROI']))\n",
        "  print(fftReconContents['myROI'][i].item())\n",
        "dog = fftReconContents['myROI'][0].item()\n",
        "xCenter = dog[6]\n",
        "yCenter = dog[7]\n",
        "dx = dog[4]\n",
        "dy =dog[5]\n",
        "print(xCenter)"
      ],
      "metadata": {
        "id": "qLOF1pIoDxqu"
      },
      "execution_count": null,
      "outputs": []
    },
    {
      "cell_type": "code",
      "source": [
        "# A class that loads and parses the information in a Laura style FFTReconRaw file\n",
        "class getFFTAnalysisData():\n",
        "  def __init__(self, filePath, filename):\n",
        "    self.fftReconContents = sio.loadmat(filePath + filename, squeeze_me=True)\n",
        "    self.numROIs = len(fftReconContents['myROI'])\n",
        "    print(self.numROIs)\n",
        "    #self.MYROI = fftReconContents['myROI'][0].item()\n",
        "\n",
        "  def getROICoords(self, indexx):\n",
        "    try:\n",
        "      dog = self.fftReconContents['myROI'][indexx].item()\n",
        "\n",
        "    except ValueError as err:\n",
        "      print(\"ROI range not valid\")\n",
        "    return dog[6], dog[7], dog[4], dog[5]\n",
        "\n",
        "  def getROItype(self, indexx):\n",
        "    dog = self.fftReconContents['myROI'][indexx].item()\n",
        "    return dog[0]\n",
        "\n",
        "  def getFFTmagY(self):\n",
        "    dog = self.fftReconContents['data'].item()\n",
        "    doog = np.array(dog, dtype=object)\n",
        "    print(doog[1].shape)\n",
        "    return doog[1]\n",
        "\n",
        "  def getFrequencies(self):\n",
        "    dog = self.fftReconContents['data'].item()\n",
        "    doog = np.array(dog, dtype=object)\n",
        "    return doog[4]\n"
      ],
      "metadata": {
        "id": "J8eZ5p0oIk79"
      },
      "execution_count": null,
      "outputs": []
    },
    {
      "cell_type": "code",
      "source": [
        "mu307 = getFFTAnalysisData(basePathName, fftReconFile)"
      ],
      "metadata": {
        "colab": {
          "base_uri": "https://localhost:8080/"
        },
        "id": "vkUXcCVwMc-G",
        "outputId": "6bd77c1d-5134-409e-fa79-58241eabc081"
      },
      "execution_count": null,
      "outputs": [
        {
          "output_type": "stream",
          "name": "stdout",
          "text": [
            "27\n"
          ]
        }
      ]
    },
    {
      "cell_type": "code",
      "source": [
        "mu307.getROICoords(8)\n",
        "#print(mu307.getROICoords(8))\n",
        "#print(mu307.getROItype(8))"
      ],
      "metadata": {
        "colab": {
          "base_uri": "https://localhost:8080/"
        },
        "id": "9ei_BNbDMp6a",
        "outputId": "70a74f76-1d82-4f6d-a43a-2222ffa497c7"
      },
      "execution_count": null,
      "outputs": [
        {
          "output_type": "execute_result",
          "data": {
            "text/plain": [
              "(569, 189, 64, 64)"
            ]
          },
          "metadata": {},
          "execution_count": 80
        }
      ]
    },
    {
      "cell_type": "code",
      "source": [
        "var = mu307.getFrequencies()\n",
        "print(var)"
      ],
      "metadata": {
        "colab": {
          "base_uri": "https://localhost:8080/"
        },
        "id": "VL385J_tQr8A",
        "outputId": "bec1ccff-41d9-48a9-c885-90fbcbf97de5"
      },
      "execution_count": null,
      "outputs": [
        {
          "output_type": "stream",
          "name": "stdout",
          "text": [
            "[10000  1000    10 12000 15000  1500 18000 20000  2000  2500   250  3000\n",
            "  3500  4000  4500  5000   500    50  5500  6000  6500  7000]\n"
          ]
        }
      ]
    },
    {
      "cell_type": "code",
      "source": [
        "!pip install awscli"
      ],
      "metadata": {
        "colab": {
          "base_uri": "https://localhost:8080/"
        },
        "id": "Up4ekOSiyGlh",
        "outputId": "784f5424-a11a-40aa-cc10-155b31c0c3a9"
      },
      "execution_count": null,
      "outputs": [
        {
          "output_type": "stream",
          "name": "stdout",
          "text": [
            "Collecting awscli\n",
            "  Downloading awscli-1.22.90-py3-none-any.whl (3.8 MB)\n",
            "\u001b[K     |████████████████████████████████| 3.8 MB 5.2 MB/s \n",
            "\u001b[?25hRequirement already satisfied: botocore==1.24.35 in /usr/local/lib/python3.7/dist-packages (from awscli) (1.24.35)\n",
            "Requirement already satisfied: s3transfer<0.6.0,>=0.5.0 in /usr/local/lib/python3.7/dist-packages (from awscli) (0.5.2)\n",
            "Requirement already satisfied: PyYAML<5.5,>=3.10 in /usr/local/lib/python3.7/dist-packages (from awscli) (3.13)\n",
            "Collecting colorama<0.4.4,>=0.2.5\n",
            "  Downloading colorama-0.4.3-py2.py3-none-any.whl (15 kB)\n",
            "Collecting rsa<4.8,>=3.1.2\n",
            "  Downloading rsa-4.7.2-py3-none-any.whl (34 kB)\n",
            "Collecting docutils<0.16,>=0.10\n",
            "  Downloading docutils-0.15.2-py3-none-any.whl (547 kB)\n",
            "\u001b[K     |████████████████████████████████| 547 kB 44.4 MB/s \n",
            "\u001b[?25hRequirement already satisfied: urllib3<1.27,>=1.25.4 in /usr/local/lib/python3.7/dist-packages (from botocore==1.24.35->awscli) (1.26.9)\n",
            "Requirement already satisfied: jmespath<2.0.0,>=0.7.1 in /usr/local/lib/python3.7/dist-packages (from botocore==1.24.35->awscli) (1.0.0)\n",
            "Requirement already satisfied: python-dateutil<3.0.0,>=2.1 in /usr/local/lib/python3.7/dist-packages (from botocore==1.24.35->awscli) (2.8.2)\n",
            "Requirement already satisfied: six>=1.5 in /usr/local/lib/python3.7/dist-packages (from python-dateutil<3.0.0,>=2.1->botocore==1.24.35->awscli) (1.15.0)\n",
            "Requirement already satisfied: pyasn1>=0.1.3 in /usr/local/lib/python3.7/dist-packages (from rsa<4.8,>=3.1.2->awscli) (0.4.8)\n",
            "Installing collected packages: rsa, docutils, colorama, awscli\n",
            "  Attempting uninstall: rsa\n",
            "    Found existing installation: rsa 4.8\n",
            "    Uninstalling rsa-4.8:\n",
            "      Successfully uninstalled rsa-4.8\n",
            "  Attempting uninstall: docutils\n",
            "    Found existing installation: docutils 0.17.1\n",
            "    Uninstalling docutils-0.17.1:\n",
            "      Successfully uninstalled docutils-0.17.1\n",
            "\u001b[31mERROR: pip's dependency resolver does not currently take into account all the packages that are installed. This behaviour is the source of the following dependency conflicts.\n",
            "datascience 0.10.6 requires folium==0.2.1, but you have folium 0.8.3 which is incompatible.\u001b[0m\n",
            "Successfully installed awscli-1.22.90 colorama-0.4.3 docutils-0.15.2 rsa-4.7.2\n"
          ]
        }
      ]
    },
    {
      "cell_type": "code",
      "source": [
        "pip install boto3"
      ],
      "metadata": {
        "colab": {
          "base_uri": "https://localhost:8080/"
        },
        "id": "zOHRUHOBOWRp",
        "outputId": "12d72cf1-9e0f-4498-ec7e-6c6994fb4328"
      },
      "execution_count": null,
      "outputs": [
        {
          "output_type": "stream",
          "name": "stdout",
          "text": [
            "Collecting boto3\n",
            "  Downloading boto3-1.21.35-py3-none-any.whl (132 kB)\n",
            "\u001b[K     |████████████████████████████████| 132 kB 5.7 MB/s \n",
            "\u001b[?25hCollecting s3transfer<0.6.0,>=0.5.0\n",
            "  Downloading s3transfer-0.5.2-py3-none-any.whl (79 kB)\n",
            "\u001b[K     |████████████████████████████████| 79 kB 6.7 MB/s \n",
            "\u001b[?25hCollecting botocore<1.25.0,>=1.24.35\n",
            "  Downloading botocore-1.24.35-py3-none-any.whl (8.7 MB)\n",
            "\u001b[K     |████████████████████████████████| 8.7 MB 40.9 MB/s \n",
            "\u001b[?25hCollecting jmespath<2.0.0,>=0.7.1\n",
            "  Downloading jmespath-1.0.0-py3-none-any.whl (23 kB)\n",
            "Collecting urllib3<1.27,>=1.25.4\n",
            "  Downloading urllib3-1.26.9-py2.py3-none-any.whl (138 kB)\n",
            "\u001b[K     |████████████████████████████████| 138 kB 53.6 MB/s \n",
            "\u001b[?25hRequirement already satisfied: python-dateutil<3.0.0,>=2.1 in /usr/local/lib/python3.7/dist-packages (from botocore<1.25.0,>=1.24.35->boto3) (2.8.2)\n",
            "Requirement already satisfied: six>=1.5 in /usr/local/lib/python3.7/dist-packages (from python-dateutil<3.0.0,>=2.1->botocore<1.25.0,>=1.24.35->boto3) (1.15.0)\n",
            "Installing collected packages: urllib3, jmespath, botocore, s3transfer, boto3\n",
            "  Attempting uninstall: urllib3\n",
            "    Found existing installation: urllib3 1.24.3\n",
            "    Uninstalling urllib3-1.24.3:\n",
            "      Successfully uninstalled urllib3-1.24.3\n",
            "\u001b[31mERROR: pip's dependency resolver does not currently take into account all the packages that are installed. This behaviour is the source of the following dependency conflicts.\n",
            "requests 2.23.0 requires urllib3!=1.25.0,!=1.25.1,<1.26,>=1.21.1, but you have urllib3 1.26.9 which is incompatible.\n",
            "datascience 0.10.6 requires folium==0.2.1, but you have folium 0.8.3 which is incompatible.\u001b[0m\n",
            "Successfully installed boto3-1.21.35 botocore-1.24.35 jmespath-1.0.0 s3transfer-0.5.2 urllib3-1.26.9\n"
          ]
        }
      ]
    },
    {
      "cell_type": "code",
      "source": [
        "import boto3\n",
        "\n",
        "BUCKET_NAME = 'gerbilstrobe' # replace with your bucket name\n",
        "\n",
        "# enter authentication credentials\n",
        "s3 = boto3.resource('s3', aws_access_key_id = 'VWR', \n",
        "                          aws_secret_access_key= '53ix')"
      ],
      "metadata": {
        "id": "IR_FVL8MOeTg"
      },
      "execution_count": null,
      "outputs": []
    },
    {
      "cell_type": "code",
      "source": [
        "! aws configure"
      ],
      "metadata": {
        "colab": {
          "base_uri": "https://localhost:8080/"
        },
        "id": "4OZAmGWIXFxX",
        "outputId": "a57150b6-0d38-4f13-b217-9f9b61eb8c18"
      },
      "execution_count": null,
      "outputs": [
        {
          "output_type": "stream",
          "name": "stdout",
          "text": [
            "AWS Access Key ID [****************WVWR]: \n",
            "AWS Secret Access Key [****************53ix]: \n",
            "Default region name [None]: \n",
            "Default output format [None]: \n"
          ]
        }
      ]
    },
    {
      "cell_type": "code",
      "source": [
        "! aws s3 ls s3://gerbilstrobe/2012_03_22_mu307/20120322T114453/L1/ --recursive"
      ],
      "metadata": {
        "colab": {
          "base_uri": "https://localhost:8080/"
        },
        "id": "qdLgWn9oWtEX",
        "outputId": "ed6b3792-6f6f-4265-b4d1-02c05f25ce0d"
      },
      "execution_count": null,
      "outputs": [
        {
          "output_type": "stream",
          "name": "stdout",
          "text": [
            "2022-04-05 22:10:56     112909 2012_03_22_mu307/20120322T114453/L1/2012_03_22_mu307_20120322T114453_ssxcorr_64_IHCSS_y_L1_FFTreconRAW.mat\n",
            "2022-04-05 22:24:05    3840146 2012_03_22_mu307/20120322T114453/L1/F10/Image_F10HzP000L1S20120322T114453.tif\n",
            "2022-04-05 22:23:41    3840146 2012_03_22_mu307/20120322T114453/L1/F10/Image_F10HzP045L1S20120322T114453.tif\n",
            "2022-04-05 22:24:17    3840146 2012_03_22_mu307/20120322T114453/L1/F10/Image_F10HzP090L1S20120322T114453.tif\n",
            "2022-04-05 22:23:55    3840146 2012_03_22_mu307/20120322T114453/L1/F10/Image_F10HzP135L1S20120322T114453.tif\n",
            "2022-04-05 22:23:59    3840146 2012_03_22_mu307/20120322T114453/L1/F10/Image_F10HzP180L1S20120322T114453.tif\n",
            "2022-04-05 22:23:46    3840146 2012_03_22_mu307/20120322T114453/L1/F10/Image_F10HzP225L1S20120322T114453.tif\n",
            "2022-04-05 22:24:12    3840146 2012_03_22_mu307/20120322T114453/L1/F10/Image_F10HzP270L1S20120322T114453.tif\n",
            "2022-04-05 22:23:50    3840146 2012_03_22_mu307/20120322T114453/L1/F10/Image_F10HzP315L1S20120322T114453.tif\n",
            "2022-04-05 22:23:41          0 2012_03_22_mu307/20120322T114453/L1/F10/ROI_metadata_serial_20120322T140401\n",
            "2022-04-05 22:23:46      14818 2012_03_22_mu307/20120322T114453/L1/F10/ROI_metadata_serial_20120322T140452\n",
            "2022-04-05 22:14:48    3840146 2012_03_22_mu307/20120322T114453/L1/F1000/Image_F1000HzP000L1S20120322T114453.tif\n",
            "2022-04-05 22:15:20    3840146 2012_03_22_mu307/20120322T114453/L1/F1000/Image_F1000HzP045L1S20120322T114453.tif\n",
            "2022-04-05 22:15:15    3840146 2012_03_22_mu307/20120322T114453/L1/F1000/Image_F1000HzP090L1S20120322T114453.tif\n",
            "2022-04-05 22:15:11    3840146 2012_03_22_mu307/20120322T114453/L1/F1000/Image_F1000HzP135L1S20120322T114453.tif\n",
            "2022-04-05 22:15:02    3840146 2012_03_22_mu307/20120322T114453/L1/F1000/Image_F1000HzP180L1S20120322T114453.tif\n",
            "2022-04-05 22:15:06    3840146 2012_03_22_mu307/20120322T114453/L1/F1000/Image_F1000HzP225L1S20120322T114453.tif\n",
            "2022-04-05 22:14:55    3840146 2012_03_22_mu307/20120322T114453/L1/F1000/Image_F1000HzP270L1S20120322T114453.tif\n",
            "2022-04-05 22:14:43    3840146 2012_03_22_mu307/20120322T114453/L1/F1000/Image_F1000HzP315L1S20120322T114453.tif\n",
            "2022-04-05 22:25:10    3840146 2012_03_22_mu307/20120322T114453/L1/F10000/Image_F10000HzP000L1S20120322T114453.tif\n",
            "2022-04-05 22:25:32    3840146 2012_03_22_mu307/20120322T114453/L1/F10000/Image_F10000HzP045L1S20120322T114453.tif\n",
            "2022-04-05 22:25:21    3840146 2012_03_22_mu307/20120322T114453/L1/F10000/Image_F10000HzP090L1S20120322T114453.tif\n",
            "2022-04-05 22:25:26    3840146 2012_03_22_mu307/20120322T114453/L1/F10000/Image_F10000HzP135L1S20120322T114453.tif\n",
            "2022-04-05 22:25:00    3840146 2012_03_22_mu307/20120322T114453/L1/F10000/Image_F10000HzP180L1S20120322T114453.tif\n",
            "2022-04-05 22:25:37    3840146 2012_03_22_mu307/20120322T114453/L1/F10000/Image_F10000HzP225L1S20120322T114453.tif\n",
            "2022-04-05 22:25:05    3840146 2012_03_22_mu307/20120322T114453/L1/F10000/Image_F10000HzP270L1S20120322T114453.tif\n",
            "2022-04-05 22:25:16    3840146 2012_03_22_mu307/20120322T114453/L1/F10000/Image_F10000HzP315L1S20120322T114453.tif\n",
            "2022-04-05 22:23:05    3840146 2012_03_22_mu307/20120322T114453/L1/F12000/Image_F12000HzP000L1S20120322T114453.tif\n",
            "2022-04-05 22:23:23    3840146 2012_03_22_mu307/20120322T114453/L1/F12000/Image_F12000HzP045L1S20120322T114453.tif\n",
            "2022-04-05 22:23:36    3840146 2012_03_22_mu307/20120322T114453/L1/F12000/Image_F12000HzP090L1S20120322T114453.tif\n",
            "2022-04-05 22:23:10    3840146 2012_03_22_mu307/20120322T114453/L1/F12000/Image_F12000HzP135L1S20120322T114453.tif\n",
            "2022-04-05 22:23:27    3840146 2012_03_22_mu307/20120322T114453/L1/F12000/Image_F12000HzP180L1S20120322T114453.tif\n",
            "2022-04-05 22:23:15    3840146 2012_03_22_mu307/20120322T114453/L1/F12000/Image_F12000HzP225L1S20120322T114453.tif\n",
            "2022-04-05 22:23:32    3840146 2012_03_22_mu307/20120322T114453/L1/F12000/Image_F12000HzP270L1S20120322T114453.tif\n",
            "2022-04-05 22:23:19    3840146 2012_03_22_mu307/20120322T114453/L1/F12000/Image_F12000HzP315L1S20120322T114453.tif\n",
            "2022-04-05 22:12:47    3840146 2012_03_22_mu307/20120322T114453/L1/F1500/Image_F1500HzP000L1S20120322T114453.tif\n",
            "2022-04-05 22:13:01    3840146 2012_03_22_mu307/20120322T114453/L1/F1500/Image_F1500HzP045L1S20120322T114453.tif\n",
            "2022-04-05 22:13:13    3840146 2012_03_22_mu307/20120322T114453/L1/F1500/Image_F1500HzP090L1S20120322T114453.tif\n",
            "2022-04-05 22:12:52    3840146 2012_03_22_mu307/20120322T114453/L1/F1500/Image_F1500HzP135L1S20120322T114453.tif\n",
            "2022-04-05 22:13:18    3840146 2012_03_22_mu307/20120322T114453/L1/F1500/Image_F1500HzP180L1S20120322T114453.tif\n",
            "2022-04-05 22:13:07    3840146 2012_03_22_mu307/20120322T114453/L1/F1500/Image_F1500HzP225L1S20120322T114453.tif\n",
            "2022-04-05 22:12:56    3840146 2012_03_22_mu307/20120322T114453/L1/F1500/Image_F1500HzP270L1S20120322T114453.tif\n",
            "2022-04-05 22:12:42    3840146 2012_03_22_mu307/20120322T114453/L1/F1500/Image_F1500HzP315L1S20120322T114453.tif\n",
            "2022-04-05 22:20:27    3840146 2012_03_22_mu307/20120322T114453/L1/F15000/Image_F15000HzP000L1S20120322T114453.tif\n",
            "2022-04-05 22:19:58    3840146 2012_03_22_mu307/20120322T114453/L1/F15000/Image_F15000HzP045L1S20120322T114453.tif\n",
            "2022-04-05 22:20:08    3840146 2012_03_22_mu307/20120322T114453/L1/F15000/Image_F15000HzP090L1S20120322T114453.tif\n",
            "2022-04-05 22:20:22    3840146 2012_03_22_mu307/20120322T114453/L1/F15000/Image_F15000HzP135L1S20120322T114453.tif\n",
            "2022-04-05 22:20:17    3840146 2012_03_22_mu307/20120322T114453/L1/F15000/Image_F15000HzP180L1S20120322T114453.tif\n",
            "2022-04-05 22:19:53    3840146 2012_03_22_mu307/20120322T114453/L1/F15000/Image_F15000HzP225L1S20120322T114453.tif\n",
            "2022-04-05 22:20:13    3840146 2012_03_22_mu307/20120322T114453/L1/F15000/Image_F15000HzP270L1S20120322T114453.tif\n",
            "2022-04-05 22:20:02    3840146 2012_03_22_mu307/20120322T114453/L1/F15000/Image_F15000HzP315L1S20120322T114453.tif\n",
            "2022-04-05 22:16:26    3840146 2012_03_22_mu307/20120322T114453/L1/F18000/Image_F18000HzP000L1S20120322T114453.tif\n",
            "2022-04-05 22:16:07    3840146 2012_03_22_mu307/20120322T114453/L1/F18000/Image_F18000HzP045L1S20120322T114453.tif\n",
            "2022-04-05 22:16:35    3840146 2012_03_22_mu307/20120322T114453/L1/F18000/Image_F18000HzP090L1S20120322T114453.tif\n",
            "2022-04-05 22:16:22    3840146 2012_03_22_mu307/20120322T114453/L1/F18000/Image_F18000HzP135L1S20120322T114453.tif\n",
            "2022-04-05 22:16:17    3840146 2012_03_22_mu307/20120322T114453/L1/F18000/Image_F18000HzP180L1S20120322T114453.tif\n",
            "2022-04-05 22:16:02    3840146 2012_03_22_mu307/20120322T114453/L1/F18000/Image_F18000HzP225L1S20120322T114453.tif\n",
            "2022-04-05 22:16:12    3840146 2012_03_22_mu307/20120322T114453/L1/F18000/Image_F18000HzP270L1S20120322T114453.tif\n",
            "2022-04-05 22:16:31    3840146 2012_03_22_mu307/20120322T114453/L1/F18000/Image_F18000HzP315L1S20120322T114453.tif\n",
            "2022-04-05 22:12:22    3840146 2012_03_22_mu307/20120322T114453/L1/F2000/Image_F2000HzP000L1S20120322T114453.tif\n",
            "2022-04-05 22:12:12    3840146 2012_03_22_mu307/20120322T114453/L1/F2000/Image_F2000HzP045L1S20120322T114453.tif\n",
            "2022-04-05 22:12:07    3840146 2012_03_22_mu307/20120322T114453/L1/F2000/Image_F2000HzP090L1S20120322T114453.tif\n",
            "2022-04-05 22:12:32    3840146 2012_03_22_mu307/20120322T114453/L1/F2000/Image_F2000HzP135L1S20120322T114453.tif\n",
            "2022-04-05 22:12:02    3840146 2012_03_22_mu307/20120322T114453/L1/F2000/Image_F2000HzP180L1S20120322T114453.tif\n",
            "2022-04-05 22:12:37    3840146 2012_03_22_mu307/20120322T114453/L1/F2000/Image_F2000HzP225L1S20120322T114453.tif\n",
            "2022-04-05 22:12:27    3840146 2012_03_22_mu307/20120322T114453/L1/F2000/Image_F2000HzP270L1S20120322T114453.tif\n",
            "2022-04-05 22:12:17    3840146 2012_03_22_mu307/20120322T114453/L1/F2000/Image_F2000HzP315L1S20120322T114453.tif\n",
            "2022-04-05 22:13:34    3840146 2012_03_22_mu307/20120322T114453/L1/F20000/Image_F20000HzP000L1S20120322T114453.tif\n",
            "2022-04-05 22:13:55    3840146 2012_03_22_mu307/20120322T114453/L1/F20000/Image_F20000HzP045L1S20120322T114453.tif\n",
            "2022-04-05 22:13:23    3840146 2012_03_22_mu307/20120322T114453/L1/F20000/Image_F20000HzP090L1S20120322T114453.tif\n",
            "2022-04-05 22:13:39    3840146 2012_03_22_mu307/20120322T114453/L1/F20000/Image_F20000HzP135L1S20120322T114453.tif\n",
            "2022-04-05 22:13:28    3840146 2012_03_22_mu307/20120322T114453/L1/F20000/Image_F20000HzP180L1S20120322T114453.tif\n",
            "2022-04-05 22:14:00    3840146 2012_03_22_mu307/20120322T114453/L1/F20000/Image_F20000HzP225L1S20120322T114453.tif\n",
            "2022-04-05 22:13:50    3840146 2012_03_22_mu307/20120322T114453/L1/F20000/Image_F20000HzP270L1S20120322T114453.tif\n",
            "2022-04-05 22:13:44    3840146 2012_03_22_mu307/20120322T114453/L1/F20000/Image_F20000HzP315L1S20120322T114453.tif\n",
            "2022-04-05 22:17:27    3840146 2012_03_22_mu307/20120322T114453/L1/F250/Image_F250HzP000L1S20120322T114453.tif\n",
            "2022-04-05 22:17:36    3840146 2012_03_22_mu307/20120322T114453/L1/F250/Image_F250HzP045L1S20120322T114453.tif\n",
            "2022-04-05 22:17:46    3840146 2012_03_22_mu307/20120322T114453/L1/F250/Image_F250HzP090L1S20120322T114453.tif\n",
            "2022-04-05 22:17:51    3840146 2012_03_22_mu307/20120322T114453/L1/F250/Image_F250HzP135L1S20120322T114453.tif\n",
            "2022-04-05 22:17:56    3840146 2012_03_22_mu307/20120322T114453/L1/F250/Image_F250HzP180L1S20120322T114453.tif\n",
            "2022-04-05 22:17:41    3840146 2012_03_22_mu307/20120322T114453/L1/F250/Image_F250HzP225L1S20120322T114453.tif\n",
            "2022-04-05 22:17:22    3840146 2012_03_22_mu307/20120322T114453/L1/F250/Image_F250HzP270L1S20120322T114453.tif\n",
            "2022-04-05 22:17:31    3840146 2012_03_22_mu307/20120322T114453/L1/F250/Image_F250HzP315L1S20120322T114453.tif\n",
            "2022-04-05 22:24:46    3840146 2012_03_22_mu307/20120322T114453/L1/F2500/Image_F2500HzP000L1S20120322T114453.tif\n",
            "2022-04-05 22:24:37    3840146 2012_03_22_mu307/20120322T114453/L1/F2500/Image_F2500HzP045L1S20120322T114453.tif\n",
            "2022-04-05 22:24:52    3840146 2012_03_22_mu307/20120322T114453/L1/F2500/Image_F2500HzP090L1S20120322T114453.tif\n",
            "2022-04-05 22:24:27    3840146 2012_03_22_mu307/20120322T114453/L1/F2500/Image_F2500HzP135L1S20120322T114453.tif\n",
            "2022-04-05 22:24:32    3840146 2012_03_22_mu307/20120322T114453/L1/F2500/Image_F2500HzP180L1S20120322T114453.tif\n",
            "2022-04-05 22:24:42    3840146 2012_03_22_mu307/20120322T114453/L1/F2500/Image_F2500HzP225L1S20120322T114453.tif\n",
            "2022-04-05 22:24:22    3840146 2012_03_22_mu307/20120322T114453/L1/F2500/Image_F2500HzP270L1S20120322T114453.tif\n",
            "2022-04-05 22:24:56    3840146 2012_03_22_mu307/20120322T114453/L1/F2500/Image_F2500HzP315L1S20120322T114453.tif\n",
            "2022-04-05 22:18:19    3840146 2012_03_22_mu307/20120322T114453/L1/F3000/Image_F3000HzP000L1S20120322T114453.tif\n",
            "2022-04-05 22:18:33    3840146 2012_03_22_mu307/20120322T114453/L1/F3000/Image_F3000HzP045L1S20120322T114453.tif\n",
            "2022-04-05 22:18:23    3840146 2012_03_22_mu307/20120322T114453/L1/F3000/Image_F3000HzP090L1S20120322T114453.tif\n",
            "2022-04-05 22:18:10    3840146 2012_03_22_mu307/20120322T114453/L1/F3000/Image_F3000HzP135L1S20120322T114453.tif\n",
            "2022-04-05 22:18:28    3840146 2012_03_22_mu307/20120322T114453/L1/F3000/Image_F3000HzP180L1S20120322T114453.tif\n",
            "2022-04-05 22:18:05    3840146 2012_03_22_mu307/20120322T114453/L1/F3000/Image_F3000HzP225L1S20120322T114453.tif\n",
            "2022-04-05 22:18:01    3840146 2012_03_22_mu307/20120322T114453/L1/F3000/Image_F3000HzP270L1S20120322T114453.tif\n",
            "2022-04-05 22:18:14    3840146 2012_03_22_mu307/20120322T114453/L1/F3000/Image_F3000HzP315L1S20120322T114453.tif\n",
            "2022-04-05 22:19:19    3840146 2012_03_22_mu307/20120322T114453/L1/F3500/Image_F3500HzP000L1S20120322T114453.tif\n",
            "2022-04-05 22:19:37    3840146 2012_03_22_mu307/20120322T114453/L1/F3500/Image_F3500HzP045L1S20120322T114453.tif\n",
            "2022-04-05 22:19:49    3840146 2012_03_22_mu307/20120322T114453/L1/F3500/Image_F3500HzP090L1S20120322T114453.tif\n",
            "2022-04-05 22:19:40    3840146 2012_03_22_mu307/20120322T114453/L1/F3500/Image_F3500HzP135L1S20120322T114453.tif\n",
            "2022-04-05 22:19:33    3840146 2012_03_22_mu307/20120322T114453/L1/F3500/Image_F3500HzP180L1S20120322T114453.tif\n",
            "2022-04-05 22:19:45    3840146 2012_03_22_mu307/20120322T114453/L1/F3500/Image_F3500HzP225L1S20120322T114453.tif\n",
            "2022-04-05 22:19:24    3840146 2012_03_22_mu307/20120322T114453/L1/F3500/Image_F3500HzP270L1S20120322T114453.tif\n",
            "2022-04-05 22:19:28    3840146 2012_03_22_mu307/20120322T114453/L1/F3500/Image_F3500HzP315L1S20120322T114453.tif\n",
            "2022-04-05 22:22:35    3840146 2012_03_22_mu307/20120322T114453/L1/F4000/Image_F4000HzP000L1S20120322T114453.tif\n",
            "2022-04-05 22:22:50    3840146 2012_03_22_mu307/20120322T114453/L1/F4000/Image_F4000HzP045L1S20120322T114453.tif\n",
            "2022-04-05 22:23:01    3840146 2012_03_22_mu307/20120322T114453/L1/F4000/Image_F4000HzP090L1S20120322T114453.tif\n",
            "2022-04-05 22:22:30    3840146 2012_03_22_mu307/20120322T114453/L1/F4000/Image_F4000HzP135L1S20120322T114453.tif\n",
            "2022-04-05 22:22:56    3840146 2012_03_22_mu307/20120322T114453/L1/F4000/Image_F4000HzP180L1S20120322T114453.tif\n",
            "2022-04-05 22:22:45    3840146 2012_03_22_mu307/20120322T114453/L1/F4000/Image_F4000HzP225L1S20120322T114453.tif\n",
            "2022-04-05 22:22:26    3840146 2012_03_22_mu307/20120322T114453/L1/F4000/Image_F4000HzP270L1S20120322T114453.tif\n",
            "2022-04-05 22:22:41    3840146 2012_03_22_mu307/20120322T114453/L1/F4000/Image_F4000HzP315L1S20120322T114453.tif\n",
            "2022-04-05 22:11:42    3840146 2012_03_22_mu307/20120322T114453/L1/F4500/Image_F4500HzP000L1S20120322T114453.tif\n",
            "2022-04-05 22:11:52    3840146 2012_03_22_mu307/20120322T114453/L1/F4500/Image_F4500HzP045L1S20120322T114453.tif\n",
            "2022-04-05 22:11:26    3840146 2012_03_22_mu307/20120322T114453/L1/F4500/Image_F4500HzP090L1S20120322T114453.tif\n",
            "2022-04-05 22:11:57    3840146 2012_03_22_mu307/20120322T114453/L1/F4500/Image_F4500HzP135L1S20120322T114453.tif\n",
            "2022-04-05 22:11:36    3840146 2012_03_22_mu307/20120322T114453/L1/F4500/Image_F4500HzP180L1S20120322T114453.tif\n",
            "2022-04-05 22:11:21    3840146 2012_03_22_mu307/20120322T114453/L1/F4500/Image_F4500HzP225L1S20120322T114453.tif\n",
            "2022-04-05 22:11:32    3840146 2012_03_22_mu307/20120322T114453/L1/F4500/Image_F4500HzP270L1S20120322T114453.tif\n",
            "2022-04-05 22:11:47    3840146 2012_03_22_mu307/20120322T114453/L1/F4500/Image_F4500HzP315L1S20120322T114453.tif\n",
            "2022-04-05 22:14:19    3840146 2012_03_22_mu307/20120322T114453/L1/F50/Image_F50HzP000L1S20120322T114453.tif\n",
            "2022-04-05 22:14:29    3840146 2012_03_22_mu307/20120322T114453/L1/F50/Image_F50HzP045L1S20120322T114453.tif\n",
            "2022-04-05 22:14:05    3840146 2012_03_22_mu307/20120322T114453/L1/F50/Image_F50HzP090L1S20120322T114453.tif\n",
            "2022-04-05 22:14:33    3840146 2012_03_22_mu307/20120322T114453/L1/F50/Image_F50HzP135L1S20120322T114453.tif\n",
            "2022-04-05 22:14:14    3840146 2012_03_22_mu307/20120322T114453/L1/F50/Image_F50HzP180L1S20120322T114453.tif\n",
            "2022-04-05 22:14:38    3840146 2012_03_22_mu307/20120322T114453/L1/F50/Image_F50HzP225L1S20120322T114453.tif\n",
            "2022-04-05 22:14:09    3840146 2012_03_22_mu307/20120322T114453/L1/F50/Image_F50HzP270L1S20120322T114453.tif\n",
            "2022-04-05 22:14:24    3840146 2012_03_22_mu307/20120322T114453/L1/F50/Image_F50HzP315L1S20120322T114453.tif\n",
            "2022-04-05 22:21:51    3840146 2012_03_22_mu307/20120322T114453/L1/F500/Image_F500HzP000L1S20120322T114453.tif\n",
            "2022-04-05 22:22:13    3840146 2012_03_22_mu307/20120322T114453/L1/F500/Image_F500HzP045L1S20120322T114453.tif\n",
            "2022-04-05 22:22:00    3840146 2012_03_22_mu307/20120322T114453/L1/F500/Image_F500HzP090L1S20120322T114453.tif\n",
            "2022-04-05 22:21:55    3840146 2012_03_22_mu307/20120322T114453/L1/F500/Image_F500HzP135L1S20120322T114453.tif\n",
            "2022-04-05 22:22:09    3840146 2012_03_22_mu307/20120322T114453/L1/F500/Image_F500HzP180L1S20120322T114453.tif\n",
            "2022-04-05 22:22:21    3840146 2012_03_22_mu307/20120322T114453/L1/F500/Image_F500HzP225L1S20120322T114453.tif\n",
            "2022-04-05 22:22:17    3840146 2012_03_22_mu307/20120322T114453/L1/F500/Image_F500HzP270L1S20120322T114453.tif\n",
            "2022-04-05 22:22:04    3840146 2012_03_22_mu307/20120322T114453/L1/F500/Image_F500HzP315L1S20120322T114453.tif\n",
            "2022-04-05 22:16:51    3840146 2012_03_22_mu307/20120322T114453/L1/F5000/Image_F5000HzP000L1S20120322T114453.tif\n",
            "2022-04-05 22:17:12    3840146 2012_03_22_mu307/20120322T114453/L1/F5000/Image_F5000HzP045L1S20120322T114453.tif\n",
            "2022-04-05 22:16:40    3840146 2012_03_22_mu307/20120322T114453/L1/F5000/Image_F5000HzP090L1S20120322T114453.tif\n",
            "2022-04-05 22:16:45    3840146 2012_03_22_mu307/20120322T114453/L1/F5000/Image_F5000HzP135L1S20120322T114453.tif\n",
            "2022-04-05 22:17:02    3840146 2012_03_22_mu307/20120322T114453/L1/F5000/Image_F5000HzP180L1S20120322T114453.tif\n",
            "2022-04-05 22:17:17    3840146 2012_03_22_mu307/20120322T114453/L1/F5000/Image_F5000HzP225L1S20120322T114453.tif\n",
            "2022-04-05 22:17:07    3840146 2012_03_22_mu307/20120322T114453/L1/F5000/Image_F5000HzP270L1S20120322T114453.tif\n",
            "2022-04-05 22:16:57    3840146 2012_03_22_mu307/20120322T114453/L1/F5000/Image_F5000HzP315L1S20120322T114453.tif\n",
            "2022-04-05 22:15:26    3840146 2012_03_22_mu307/20120322T114453/L1/F5500/Image_F5500HzP000L1S20120322T114453.tif\n",
            "2022-04-05 22:15:52    3840146 2012_03_22_mu307/20120322T114453/L1/F5500/Image_F5500HzP045L1S20120322T114453.tif\n",
            "2022-04-05 22:15:39    3840146 2012_03_22_mu307/20120322T114453/L1/F5500/Image_F5500HzP090L1S20120322T114453.tif\n",
            "2022-04-05 22:15:48    3840146 2012_03_22_mu307/20120322T114453/L1/F5500/Image_F5500HzP135L1S20120322T114453.tif\n",
            "2022-04-05 22:15:30    3840146 2012_03_22_mu307/20120322T114453/L1/F5500/Image_F5500HzP180L1S20120322T114453.tif\n",
            "2022-04-05 22:15:35    3840146 2012_03_22_mu307/20120322T114453/L1/F5500/Image_F5500HzP225L1S20120322T114453.tif\n",
            "2022-04-05 22:15:57    3840146 2012_03_22_mu307/20120322T114453/L1/F5500/Image_F5500HzP270L1S20120322T114453.tif\n",
            "2022-04-05 22:15:43    3840146 2012_03_22_mu307/20120322T114453/L1/F5500/Image_F5500HzP315L1S20120322T114453.tif\n",
            "2022-04-05 22:20:32    3840146 2012_03_22_mu307/20120322T114453/L1/F6000/Image_F6000HzP000L1S20120322T114453.tif\n",
            "2022-04-05 22:21:09    3840146 2012_03_22_mu307/20120322T114453/L1/F6000/Image_F6000HzP045L1S20120322T114453.tif\n",
            "2022-04-05 22:21:00    3840146 2012_03_22_mu307/20120322T114453/L1/F6000/Image_F6000HzP090L1S20120322T114453.tif\n",
            "2022-04-05 22:20:49    3840146 2012_03_22_mu307/20120322T114453/L1/F6000/Image_F6000HzP135L1S20120322T114453.tif\n",
            "2022-04-05 22:20:38    3840146 2012_03_22_mu307/20120322T114453/L1/F6000/Image_F6000HzP180L1S20120322T114453.tif\n",
            "2022-04-05 22:20:54    3840146 2012_03_22_mu307/20120322T114453/L1/F6000/Image_F6000HzP225L1S20120322T114453.tif\n",
            "2022-04-05 22:20:44    3840146 2012_03_22_mu307/20120322T114453/L1/F6000/Image_F6000HzP270L1S20120322T114453.tif\n",
            "2022-04-05 22:21:05    3840146 2012_03_22_mu307/20120322T114453/L1/F6000/Image_F6000HzP315L1S20120322T114453.tif\n",
            "2022-04-05 22:18:38    3840146 2012_03_22_mu307/20120322T114453/L1/F6500/Image_F6500HzP000L1S20120322T114453.tif\n",
            "2022-04-05 22:19:12    3840146 2012_03_22_mu307/20120322T114453/L1/F6500/Image_F6500HzP045L1S20120322T114453.tif\n",
            "2022-04-05 22:18:47    3840146 2012_03_22_mu307/20120322T114453/L1/F6500/Image_F6500HzP090L1S20120322T114453.tif\n",
            "2022-04-05 22:18:43    3840146 2012_03_22_mu307/20120322T114453/L1/F6500/Image_F6500HzP135L1S20120322T114453.tif\n",
            "2022-04-05 22:18:52    3840146 2012_03_22_mu307/20120322T114453/L1/F6500/Image_F6500HzP180L1S20120322T114453.tif\n",
            "2022-04-05 22:19:01    3840146 2012_03_22_mu307/20120322T114453/L1/F6500/Image_F6500HzP225L1S20120322T114453.tif\n",
            "2022-04-05 22:19:07    3840146 2012_03_22_mu307/20120322T114453/L1/F6500/Image_F6500HzP270L1S20120322T114453.tif\n",
            "2022-04-05 22:18:57    3840146 2012_03_22_mu307/20120322T114453/L1/F6500/Image_F6500HzP315L1S20120322T114453.tif\n",
            "2022-04-05 22:21:42    3840146 2012_03_22_mu307/20120322T114453/L1/F7000/Image_F7000HzP000L1S20120322T114453.tif\n",
            "2022-04-05 22:21:38    3840146 2012_03_22_mu307/20120322T114453/L1/F7000/Image_F7000HzP045L1S20120322T114453.tif\n",
            "2022-04-05 22:21:23    3840146 2012_03_22_mu307/20120322T114453/L1/F7000/Image_F7000HzP090L1S20120322T114453.tif\n",
            "2022-04-05 22:21:28    3840146 2012_03_22_mu307/20120322T114453/L1/F7000/Image_F7000HzP135L1S20120322T114453.tif\n",
            "2022-04-05 22:21:47    3840146 2012_03_22_mu307/20120322T114453/L1/F7000/Image_F7000HzP180L1S20120322T114453.tif\n",
            "2022-04-05 22:21:14    3840146 2012_03_22_mu307/20120322T114453/L1/F7000/Image_F7000HzP225L1S20120322T114453.tif\n",
            "2022-04-05 22:21:18    3840146 2012_03_22_mu307/20120322T114453/L1/F7000/Image_F7000HzP270L1S20120322T114453.tif\n",
            "2022-04-05 22:21:33    3840146 2012_03_22_mu307/20120322T114453/L1/F7000/Image_F7000HzP315L1S20120322T114453.tif\n",
            "2022-04-05 22:10:21       2096 2012_03_22_mu307/20120322T114453/L1/IHCSSROI64.mat\n",
            "2022-04-05 22:10:50       1037 2012_03_22_mu307/20120322T114453/L1/Image_F10000Hz_10000P0_L1_20120322T114453_137_um.par\n",
            "2022-04-05 22:11:12       1037 2012_03_22_mu307/20120322T114453/L1/Image_F10000Hz_10000P135_L1_20120322T114453_140_um.par\n",
            "2022-04-05 22:10:29       1037 2012_03_22_mu307/20120322T114453/L1/Image_F10000Hz_10000P180_L1_20120322T114453_141_um.par\n",
            "2022-04-05 22:10:10       1037 2012_03_22_mu307/20120322T114453/L1/Image_F10000Hz_10000P225_L1_20120322T114453_142_um.par\n",
            "2022-04-05 22:10:19       1037 2012_03_22_mu307/20120322T114453/L1/Image_F10000Hz_10000P270_L1_20120322T114453_143_um.par\n",
            "2022-04-05 22:10:23       1037 2012_03_22_mu307/20120322T114453/L1/Image_F10000Hz_10000P315_L1_20120322T114453_144_um.par\n",
            "2022-04-05 22:10:24       1037 2012_03_22_mu307/20120322T114453/L1/Image_F10000Hz_10000P45_L1_20120322T114453_138_um.par\n",
            "2022-04-05 22:10:48       1037 2012_03_22_mu307/20120322T114453/L1/Image_F10000Hz_10000P90_L1_20120322T114453_139_um.par\n",
            "2022-04-05 22:11:10       1033 2012_03_22_mu307/20120322T114453/L1/Image_F1000Hz_1000P0_L1_20120322T114453_33_um.par\n",
            "2022-04-05 22:11:06       1033 2012_03_22_mu307/20120322T114453/L1/Image_F1000Hz_1000P135_L1_20120322T114453_36_um.par\n",
            "2022-04-05 22:10:40       1033 2012_03_22_mu307/20120322T114453/L1/Image_F1000Hz_1000P180_L1_20120322T114453_37_um.par\n",
            "2022-04-05 22:10:25       1033 2012_03_22_mu307/20120322T114453/L1/Image_F1000Hz_1000P225_L1_20120322T114453_38_um.par\n",
            "2022-04-05 22:10:17       1033 2012_03_22_mu307/20120322T114453/L1/Image_F1000Hz_1000P270_L1_20120322T114453_39_um.par\n",
            "2022-04-05 22:11:04       1033 2012_03_22_mu307/20120322T114453/L1/Image_F1000Hz_1000P315_L1_20120322T114453_40_um.par\n",
            "2022-04-05 22:10:49       1033 2012_03_22_mu307/20120322T114453/L1/Image_F1000Hz_1000P45_L1_20120322T114453_34_um.par\n",
            "2022-04-05 22:10:33       1033 2012_03_22_mu307/20120322T114453/L1/Image_F1000Hz_1000P90_L1_20120322T114453_35_um.par\n",
            "2022-04-05 22:10:00       1024 2012_03_22_mu307/20120322T114453/L1/Image_F10Hz_10P0_L1_20120322T114453_1_um.par\n",
            "2022-04-05 22:10:33       1024 2012_03_22_mu307/20120322T114453/L1/Image_F10Hz_10P135_L1_20120322T114453_4_um.par\n",
            "2022-04-05 22:10:32       1024 2012_03_22_mu307/20120322T114453/L1/Image_F10Hz_10P180_L1_20120322T114453_5_um.par\n",
            "2022-04-05 22:10:25       1024 2012_03_22_mu307/20120322T114453/L1/Image_F10Hz_10P225_L1_20120322T114453_6_um.par\n",
            "2022-04-05 22:10:23       1024 2012_03_22_mu307/20120322T114453/L1/Image_F10Hz_10P270_L1_20120322T114453_7_um.par\n",
            "2022-04-05 22:11:00       1024 2012_03_22_mu307/20120322T114453/L1/Image_F10Hz_10P315_L1_20120322T114453_8_um.par\n",
            "2022-04-05 22:11:06       1024 2012_03_22_mu307/20120322T114453/L1/Image_F10Hz_10P45_L1_20120322T114453_2_um.par\n",
            "2022-04-05 22:11:08       1024 2012_03_22_mu307/20120322T114453/L1/Image_F10Hz_10P90_L1_20120322T114453_3_um.par\n",
            "2022-04-05 22:11:02       1037 2012_03_22_mu307/20120322T114453/L1/Image_F12000Hz_12000P0_L1_20120322T114453_145_um.par\n",
            "2022-04-05 22:11:00       1037 2012_03_22_mu307/20120322T114453/L1/Image_F12000Hz_12000P135_L1_20120322T114453_148_um.par\n",
            "2022-04-05 22:10:44       1037 2012_03_22_mu307/20120322T114453/L1/Image_F12000Hz_12000P180_L1_20120322T114453_149_um.par\n",
            "2022-04-05 22:10:07       1037 2012_03_22_mu307/20120322T114453/L1/Image_F12000Hz_12000P225_L1_20120322T114453_150_um.par\n",
            "2022-04-05 22:09:58       1037 2012_03_22_mu307/20120322T114453/L1/Image_F12000Hz_12000P270_L1_20120322T114453_151_um.par\n",
            "2022-04-05 22:09:59       1037 2012_03_22_mu307/20120322T114453/L1/Image_F12000Hz_12000P315_L1_20120322T114453_152_um.par\n",
            "2022-04-05 22:11:00       1037 2012_03_22_mu307/20120322T114453/L1/Image_F12000Hz_12000P45_L1_20120322T114453_146_um.par\n",
            "2022-04-05 22:10:27       1037 2012_03_22_mu307/20120322T114453/L1/Image_F12000Hz_12000P90_L1_20120322T114453_147_um.par\n",
            "2022-04-05 22:10:03       1037 2012_03_22_mu307/20120322T114453/L1/Image_F15000Hz_15000P0_L1_20120322T114453_153_um.par\n",
            "2022-04-05 22:10:29       1037 2012_03_22_mu307/20120322T114453/L1/Image_F15000Hz_15000P135_L1_20120322T114453_156_um.par\n",
            "2022-04-05 22:10:03       1037 2012_03_22_mu307/20120322T114453/L1/Image_F15000Hz_15000P180_L1_20120322T114453_157_um.par\n",
            "2022-04-05 22:11:06       1037 2012_03_22_mu307/20120322T114453/L1/Image_F15000Hz_15000P225_L1_20120322T114453_158_um.par\n",
            "2022-04-05 22:10:04       1037 2012_03_22_mu307/20120322T114453/L1/Image_F15000Hz_15000P270_L1_20120322T114453_159_um.par\n",
            "2022-04-05 22:10:32       1037 2012_03_22_mu307/20120322T114453/L1/Image_F15000Hz_15000P315_L1_20120322T114453_160_um.par\n",
            "2022-04-05 22:10:16       1037 2012_03_22_mu307/20120322T114453/L1/Image_F15000Hz_15000P45_L1_20120322T114453_154_um.par\n",
            "2022-04-05 22:10:22       1037 2012_03_22_mu307/20120322T114453/L1/Image_F15000Hz_15000P90_L1_20120322T114453_155_um.par\n",
            "2022-04-05 22:10:28       1033 2012_03_22_mu307/20120322T114453/L1/Image_F1500Hz_1500P0_L1_20120322T114453_41_um.par\n",
            "2022-04-05 22:10:41       1033 2012_03_22_mu307/20120322T114453/L1/Image_F1500Hz_1500P135_L1_20120322T114453_44_um.par\n",
            "2022-04-05 22:10:45       1033 2012_03_22_mu307/20120322T114453/L1/Image_F1500Hz_1500P180_L1_20120322T114453_45_um.par\n",
            "2022-04-05 22:11:13       1033 2012_03_22_mu307/20120322T114453/L1/Image_F1500Hz_1500P225_L1_20120322T114453_46_um.par\n",
            "2022-04-05 22:10:42       1033 2012_03_22_mu307/20120322T114453/L1/Image_F1500Hz_1500P270_L1_20120322T114453_47_um.par\n",
            "2022-04-05 22:10:41       1033 2012_03_22_mu307/20120322T114453/L1/Image_F1500Hz_1500P315_L1_20120322T114453_48_um.par\n",
            "2022-04-05 22:10:16       1033 2012_03_22_mu307/20120322T114453/L1/Image_F1500Hz_1500P45_L1_20120322T114453_42_um.par\n",
            "2022-04-05 22:11:11       1033 2012_03_22_mu307/20120322T114453/L1/Image_F1500Hz_1500P90_L1_20120322T114453_43_um.par\n",
            "2022-04-05 22:10:24       1037 2012_03_22_mu307/20120322T114453/L1/Image_F18000Hz_18000P0_L1_20120322T114453_161_um.par\n",
            "2022-04-05 22:10:14       1037 2012_03_22_mu307/20120322T114453/L1/Image_F18000Hz_18000P135_L1_20120322T114453_164_um.par\n",
            "2022-04-05 22:10:39       1037 2012_03_22_mu307/20120322T114453/L1/Image_F18000Hz_18000P180_L1_20120322T114453_165_um.par\n",
            "2022-04-05 22:11:10       1037 2012_03_22_mu307/20120322T114453/L1/Image_F18000Hz_18000P225_L1_20120322T114453_166_um.par\n",
            "2022-04-05 22:10:26       1037 2012_03_22_mu307/20120322T114453/L1/Image_F18000Hz_18000P270_L1_20120322T114453_167_um.par\n",
            "2022-04-05 22:10:00       1037 2012_03_22_mu307/20120322T114453/L1/Image_F18000Hz_18000P315_L1_20120322T114453_168_um.par\n",
            "2022-04-05 22:10:46       1037 2012_03_22_mu307/20120322T114453/L1/Image_F18000Hz_18000P45_L1_20120322T114453_162_um.par\n",
            "2022-04-05 22:10:05       1037 2012_03_22_mu307/20120322T114453/L1/Image_F18000Hz_18000P90_L1_20120322T114453_163_um.par\n",
            "2022-04-05 22:11:07       1037 2012_03_22_mu307/20120322T114453/L1/Image_F20000Hz_20000P0_L1_20120322T114453_169_um.par\n",
            "2022-04-05 22:10:57       1037 2012_03_22_mu307/20120322T114453/L1/Image_F20000Hz_20000P135_L1_20120322T114453_172_um.par\n",
            "2022-04-05 22:10:31       1037 2012_03_22_mu307/20120322T114453/L1/Image_F20000Hz_20000P180_L1_20120322T114453_173_um.par\n",
            "2022-04-05 22:11:13       1037 2012_03_22_mu307/20120322T114453/L1/Image_F20000Hz_20000P225_L1_20120322T114453_174_um.par\n",
            "2022-04-05 22:10:36       1037 2012_03_22_mu307/20120322T114453/L1/Image_F20000Hz_20000P270_L1_20120322T114453_175_um.par\n",
            "2022-04-05 22:11:09       1037 2012_03_22_mu307/20120322T114453/L1/Image_F20000Hz_20000P315_L1_20120322T114453_176_um.par\n",
            "2022-04-05 22:10:01       1037 2012_03_22_mu307/20120322T114453/L1/Image_F20000Hz_20000P45_L1_20120322T114453_170_um.par\n",
            "2022-04-05 22:10:30       1037 2012_03_22_mu307/20120322T114453/L1/Image_F20000Hz_20000P90_L1_20120322T114453_171_um.par\n",
            "2022-04-05 22:10:15       1033 2012_03_22_mu307/20120322T114453/L1/Image_F2000Hz_2000P0_L1_20120322T114453_49_um.par\n",
            "2022-04-05 22:10:47       1033 2012_03_22_mu307/20120322T114453/L1/Image_F2000Hz_2000P135_L1_20120322T114453_52_um.par\n",
            "2022-04-05 22:11:14       1033 2012_03_22_mu307/20120322T114453/L1/Image_F2000Hz_2000P180_L1_20120322T114453_53_um.par\n",
            "2022-04-05 22:10:01       1033 2012_03_22_mu307/20120322T114453/L1/Image_F2000Hz_2000P225_L1_20120322T114453_54_um.par\n",
            "2022-04-05 22:10:26       1033 2012_03_22_mu307/20120322T114453/L1/Image_F2000Hz_2000P270_L1_20120322T114453_55_um.par\n",
            "2022-04-05 22:10:59       1033 2012_03_22_mu307/20120322T114453/L1/Image_F2000Hz_2000P315_L1_20120322T114453_56_um.par\n",
            "2022-04-05 22:11:10       1033 2012_03_22_mu307/20120322T114453/L1/Image_F2000Hz_2000P45_L1_20120322T114453_50_um.par\n",
            "2022-04-05 22:10:40       1033 2012_03_22_mu307/20120322T114453/L1/Image_F2000Hz_2000P90_L1_20120322T114453_51_um.par\n",
            "2022-04-05 22:10:27       1033 2012_03_22_mu307/20120322T114453/L1/Image_F2500Hz_2500P0_L1_20120322T114453_57_um.par\n",
            "2022-04-05 22:10:47       1033 2012_03_22_mu307/20120322T114453/L1/Image_F2500Hz_2500P135_L1_20120322T114453_60_um.par\n",
            "2022-04-05 22:10:20       1033 2012_03_22_mu307/20120322T114453/L1/Image_F2500Hz_2500P180_L1_20120322T114453_61_um.par\n",
            "2022-04-05 22:10:23       1033 2012_03_22_mu307/20120322T114453/L1/Image_F2500Hz_2500P225_L1_20120322T114453_62_um.par\n",
            "2022-04-05 22:10:37       1033 2012_03_22_mu307/20120322T114453/L1/Image_F2500Hz_2500P270_L1_20120322T114453_63_um.par\n",
            "2022-04-05 22:10:13       1033 2012_03_22_mu307/20120322T114453/L1/Image_F2500Hz_2500P315_L1_20120322T114453_64_um.par\n",
            "2022-04-05 22:10:19       1033 2012_03_22_mu307/20120322T114453/L1/Image_F2500Hz_2500P45_L1_20120322T114453_58_um.par\n",
            "2022-04-05 22:10:58       1033 2012_03_22_mu307/20120322T114453/L1/Image_F2500Hz_2500P90_L1_20120322T114453_59_um.par\n",
            "2022-04-05 22:10:39       1029 2012_03_22_mu307/20120322T114453/L1/Image_F250Hz_250P0_L1_20120322T114453_17_um.par\n",
            "2022-04-05 22:10:31       1029 2012_03_22_mu307/20120322T114453/L1/Image_F250Hz_250P135_L1_20120322T114453_20_um.par\n",
            "2022-04-05 22:09:59       1029 2012_03_22_mu307/20120322T114453/L1/Image_F250Hz_250P180_L1_20120322T114453_21_um.par\n",
            "2022-04-05 22:11:16       1029 2012_03_22_mu307/20120322T114453/L1/Image_F250Hz_250P225_L1_20120322T114453_22_um.par\n",
            "2022-04-05 22:10:42       1029 2012_03_22_mu307/20120322T114453/L1/Image_F250Hz_250P270_L1_20120322T114453_23_um.par\n",
            "2022-04-05 22:10:05       1029 2012_03_22_mu307/20120322T114453/L1/Image_F250Hz_250P315_L1_20120322T114453_24_um.par\n",
            "2022-04-05 22:10:08       1029 2012_03_22_mu307/20120322T114453/L1/Image_F250Hz_250P45_L1_20120322T114453_18_um.par\n",
            "2022-04-05 22:10:52       1029 2012_03_22_mu307/20120322T114453/L1/Image_F250Hz_250P90_L1_20120322T114453_19_um.par\n",
            "2022-04-05 22:10:50       1033 2012_03_22_mu307/20120322T114453/L1/Image_F3000Hz_3000P0_L1_20120322T114453_65_um.par\n",
            "2022-04-05 22:11:13       1033 2012_03_22_mu307/20120322T114453/L1/Image_F3000Hz_3000P135_L1_20120322T114453_68_um.par\n",
            "2022-04-05 22:10:08       1033 2012_03_22_mu307/20120322T114453/L1/Image_F3000Hz_3000P180_L1_20120322T114453_69_um.par\n",
            "2022-04-05 22:10:48       1033 2012_03_22_mu307/20120322T114453/L1/Image_F3000Hz_3000P225_L1_20120322T114453_70_um.par\n",
            "2022-04-05 22:11:16       1033 2012_03_22_mu307/20120322T114453/L1/Image_F3000Hz_3000P270_L1_20120322T114453_71_um.par\n",
            "2022-04-05 22:10:40       1033 2012_03_22_mu307/20120322T114453/L1/Image_F3000Hz_3000P315_L1_20120322T114453_72_um.par\n",
            "2022-04-05 22:10:53       1033 2012_03_22_mu307/20120322T114453/L1/Image_F3000Hz_3000P45_L1_20120322T114453_66_um.par\n",
            "2022-04-05 22:10:15       1033 2012_03_22_mu307/20120322T114453/L1/Image_F3000Hz_3000P90_L1_20120322T114453_67_um.par\n",
            "2022-04-05 22:10:24       1033 2012_03_22_mu307/20120322T114453/L1/Image_F3500Hz_3500P0_L1_20120322T114453_73_um.par\n",
            "2022-04-05 22:11:09       1033 2012_03_22_mu307/20120322T114453/L1/Image_F3500Hz_3500P135_L1_20120322T114453_76_um.par\n",
            "2022-04-05 22:10:02       1033 2012_03_22_mu307/20120322T114453/L1/Image_F3500Hz_3500P180_L1_20120322T114453_77_um.par\n",
            "2022-04-05 22:10:43       1033 2012_03_22_mu307/20120322T114453/L1/Image_F3500Hz_3500P225_L1_20120322T114453_78_um.par\n",
            "2022-04-05 22:10:18       1033 2012_03_22_mu307/20120322T114453/L1/Image_F3500Hz_3500P270_L1_20120322T114453_79_um.par\n",
            "2022-04-05 22:11:15       1033 2012_03_22_mu307/20120322T114453/L1/Image_F3500Hz_3500P315_L1_20120322T114453_80_um.par\n",
            "2022-04-05 22:10:54       1033 2012_03_22_mu307/20120322T114453/L1/Image_F3500Hz_3500P45_L1_20120322T114453_74_um.par\n",
            "2022-04-05 22:10:28       1033 2012_03_22_mu307/20120322T114453/L1/Image_F3500Hz_3500P90_L1_20120322T114453_75_um.par\n",
            "2022-04-05 22:11:11       1033 2012_03_22_mu307/20120322T114453/L1/Image_F4000Hz_4000P0_L1_20120322T114453_81_um.par\n",
            "2022-04-05 22:10:49       1033 2012_03_22_mu307/20120322T114453/L1/Image_F4000Hz_4000P135_L1_20120322T114453_84_um.par\n",
            "2022-04-05 22:10:27       1033 2012_03_22_mu307/20120322T114453/L1/Image_F4000Hz_4000P180_L1_20120322T114453_85_um.par\n",
            "2022-04-05 22:11:04       1033 2012_03_22_mu307/20120322T114453/L1/Image_F4000Hz_4000P225_L1_20120322T114453_86_um.par\n",
            "2022-04-05 22:10:18       1033 2012_03_22_mu307/20120322T114453/L1/Image_F4000Hz_4000P270_L1_20120322T114453_87_um.par\n",
            "2022-04-05 22:10:35       1033 2012_03_22_mu307/20120322T114453/L1/Image_F4000Hz_4000P315_L1_20120322T114453_88_um.par\n",
            "2022-04-05 22:10:07       1033 2012_03_22_mu307/20120322T114453/L1/Image_F4000Hz_4000P45_L1_20120322T114453_82_um.par\n",
            "2022-04-05 22:10:42       1033 2012_03_22_mu307/20120322T114453/L1/Image_F4000Hz_4000P90_L1_20120322T114453_83_um.par\n",
            "2022-04-05 22:10:46       1033 2012_03_22_mu307/20120322T114453/L1/Image_F4500Hz_4500P0_L1_20120322T114453_89_um.par\n",
            "2022-04-05 22:10:10       1033 2012_03_22_mu307/20120322T114453/L1/Image_F4500Hz_4500P135_L1_20120322T114453_92_um.par\n",
            "2022-04-05 22:10:59       1033 2012_03_22_mu307/20120322T114453/L1/Image_F4500Hz_4500P180_L1_20120322T114453_93_um.par\n",
            "2022-04-05 22:11:12       1033 2012_03_22_mu307/20120322T114453/L1/Image_F4500Hz_4500P225_L1_20120322T114453_94_um.par\n",
            "2022-04-05 22:10:21       1033 2012_03_22_mu307/20120322T114453/L1/Image_F4500Hz_4500P270_L1_20120322T114453_95_um.par\n",
            "2022-04-05 22:10:38       1033 2012_03_22_mu307/20120322T114453/L1/Image_F4500Hz_4500P315_L1_20120322T114453_96_um.par\n",
            "2022-04-05 22:09:58       1033 2012_03_22_mu307/20120322T114453/L1/Image_F4500Hz_4500P45_L1_20120322T114453_90_um.par\n",
            "2022-04-05 22:10:00       1033 2012_03_22_mu307/20120322T114453/L1/Image_F4500Hz_4500P90_L1_20120322T114453_91_um.par\n",
            "2022-04-05 22:10:44       1034 2012_03_22_mu307/20120322T114453/L1/Image_F5000Hz_5000P0_L1_20120322T114453_97_um.par\n",
            "2022-04-05 22:10:52       1034 2012_03_22_mu307/20120322T114453/L1/Image_F5000Hz_5000P135_L1_20120322T114453_100_um.par\n",
            "2022-04-05 22:10:37       1034 2012_03_22_mu307/20120322T114453/L1/Image_F5000Hz_5000P180_L1_20120322T114453_101_um.par\n",
            "2022-04-05 22:10:25       1034 2012_03_22_mu307/20120322T114453/L1/Image_F5000Hz_5000P225_L1_20120322T114453_102_um.par\n",
            "2022-04-05 22:10:14       1034 2012_03_22_mu307/20120322T114453/L1/Image_F5000Hz_5000P270_L1_20120322T114453_103_um.par\n",
            "2022-04-05 22:10:37       1034 2012_03_22_mu307/20120322T114453/L1/Image_F5000Hz_5000P315_L1_20120322T114453_104_um.par\n",
            "2022-04-05 22:10:22       1034 2012_03_22_mu307/20120322T114453/L1/Image_F5000Hz_5000P45_L1_20120322T114453_98_um.par\n",
            "2022-04-05 22:10:30       1034 2012_03_22_mu307/20120322T114453/L1/Image_F5000Hz_5000P90_L1_20120322T114453_99_um.par\n",
            "2022-04-05 22:10:34       1030 2012_03_22_mu307/20120322T114453/L1/Image_F500Hz_500P0_L1_20120322T114453_25_um.par\n",
            "2022-04-05 22:10:08       1030 2012_03_22_mu307/20120322T114453/L1/Image_F500Hz_500P135_L1_20120322T114453_28_um.par\n",
            "2022-04-05 22:09:57       1030 2012_03_22_mu307/20120322T114453/L1/Image_F500Hz_500P180_L1_20120322T114453_29_um.par\n",
            "2022-04-05 22:10:39       1030 2012_03_22_mu307/20120322T114453/L1/Image_F500Hz_500P225_L1_20120322T114453_30_um.par\n",
            "2022-04-05 22:11:15       1030 2012_03_22_mu307/20120322T114453/L1/Image_F500Hz_500P270_L1_20120322T114453_31_um.par\n",
            "2022-04-05 22:10:04       1030 2012_03_22_mu307/20120322T114453/L1/Image_F500Hz_500P315_L1_20120322T114453_32_um.par\n",
            "2022-04-05 22:10:17       1030 2012_03_22_mu307/20120322T114453/L1/Image_F500Hz_500P45_L1_20120322T114453_26_um.par\n",
            "2022-04-05 22:10:20       1030 2012_03_22_mu307/20120322T114453/L1/Image_F500Hz_500P90_L1_20120322T114453_27_um.par\n",
            "2022-04-05 22:10:06       1026 2012_03_22_mu307/20120322T114453/L1/Image_F50Hz_50P0_L1_20120322T114453_9_um.par\n",
            "2022-04-05 22:10:45       1026 2012_03_22_mu307/20120322T114453/L1/Image_F50Hz_50P135_L1_20120322T114453_12_um.par\n",
            "2022-04-05 22:10:51       1026 2012_03_22_mu307/20120322T114453/L1/Image_F50Hz_50P180_L1_20120322T114453_13_um.par\n",
            "2022-04-05 22:10:01       1026 2012_03_22_mu307/20120322T114453/L1/Image_F50Hz_50P225_L1_20120322T114453_14_um.par\n",
            "2022-04-05 22:10:13       1026 2012_03_22_mu307/20120322T114453/L1/Image_F50Hz_50P270_L1_20120322T114453_15_um.par\n",
            "2022-04-05 22:11:08       1026 2012_03_22_mu307/20120322T114453/L1/Image_F50Hz_50P315_L1_20120322T114453_16_um.par\n",
            "2022-04-05 22:10:35       1026 2012_03_22_mu307/20120322T114453/L1/Image_F50Hz_50P45_L1_20120322T114453_10_um.par\n",
            "2022-04-05 22:10:07       1026 2012_03_22_mu307/20120322T114453/L1/Image_F50Hz_50P90_L1_20120322T114453_11_um.par\n",
            "2022-04-05 22:10:53       1034 2012_03_22_mu307/20120322T114453/L1/Image_F5500Hz_5500P0_L1_20120322T114453_105_um.par\n",
            "2022-04-05 22:10:38       1034 2012_03_22_mu307/20120322T114453/L1/Image_F5500Hz_5500P135_L1_20120322T114453_108_um.par\n",
            "2022-04-05 22:10:21       1034 2012_03_22_mu307/20120322T114453/L1/Image_F5500Hz_5500P180_L1_20120322T114453_109_um.par\n",
            "2022-04-05 22:10:09       1034 2012_03_22_mu307/20120322T114453/L1/Image_F5500Hz_5500P225_L1_20120322T114453_110_um.par\n",
            "2022-04-05 22:09:59       1034 2012_03_22_mu307/20120322T114453/L1/Image_F5500Hz_5500P270_L1_20120322T114453_111_um.par\n",
            "2022-04-05 22:10:58       1034 2012_03_22_mu307/20120322T114453/L1/Image_F5500Hz_5500P315_L1_20120322T114453_112_um.par\n",
            "2022-04-05 22:11:02       1034 2012_03_22_mu307/20120322T114453/L1/Image_F5500Hz_5500P45_L1_20120322T114453_106_um.par\n",
            "2022-04-05 22:10:43       1034 2012_03_22_mu307/20120322T114453/L1/Image_F5500Hz_5500P90_L1_20120322T114453_107_um.par\n",
            "2022-04-05 22:10:49       1034 2012_03_22_mu307/20120322T114453/L1/Image_F6000Hz_6000P0_L1_20120322T114453_113_um.par\n",
            "2022-04-05 22:11:01       1034 2012_03_22_mu307/20120322T114453/L1/Image_F6000Hz_6000P135_L1_20120322T114453_116_um.par\n",
            "2022-04-05 22:10:33       1034 2012_03_22_mu307/20120322T114453/L1/Image_F6000Hz_6000P180_L1_20120322T114453_117_um.par\n",
            "2022-04-05 22:10:43       1034 2012_03_22_mu307/20120322T114453/L1/Image_F6000Hz_6000P225_L1_20120322T114453_118_um.par\n",
            "2022-04-05 22:10:30       1034 2012_03_22_mu307/20120322T114453/L1/Image_F6000Hz_6000P270_L1_20120322T114453_119_um.par\n",
            "2022-04-05 22:10:56       1034 2012_03_22_mu307/20120322T114453/L1/Image_F6000Hz_6000P315_L1_20120322T114453_120_um.par\n",
            "2022-04-05 22:10:26       1034 2012_03_22_mu307/20120322T114453/L1/Image_F6000Hz_6000P45_L1_20120322T114453_114_um.par\n",
            "2022-04-05 22:11:01       1034 2012_03_22_mu307/20120322T114453/L1/Image_F6000Hz_6000P90_L1_20120322T114453_115_um.par\n",
            "2022-04-05 22:10:14       1034 2012_03_22_mu307/20120322T114453/L1/Image_F6500Hz_6500P0_L1_20120322T114453_121_um.par\n",
            "2022-04-05 22:09:58       1034 2012_03_22_mu307/20120322T114453/L1/Image_F6500Hz_6500P135_L1_20120322T114453_124_um.par\n",
            "2022-04-05 22:10:45       1034 2012_03_22_mu307/20120322T114453/L1/Image_F6500Hz_6500P180_L1_20120322T114453_125_um.par\n",
            "2022-04-05 22:10:44       1034 2012_03_22_mu307/20120322T114453/L1/Image_F6500Hz_6500P225_L1_20120322T114453_126_um.par\n",
            "2022-04-05 22:11:14       1034 2012_03_22_mu307/20120322T114453/L1/Image_F6500Hz_6500P270_L1_20120322T114453_127_um.par\n",
            "2022-04-05 22:10:34       1034 2012_03_22_mu307/20120322T114453/L1/Image_F6500Hz_6500P315_L1_20120322T114453_128_um.par\n",
            "2022-04-05 22:11:03       1034 2012_03_22_mu307/20120322T114453/L1/Image_F6500Hz_6500P45_L1_20120322T114453_122_um.par\n",
            "2022-04-05 22:10:52       1034 2012_03_22_mu307/20120322T114453/L1/Image_F6500Hz_6500P90_L1_20120322T114453_123_um.par\n",
            "2022-04-05 22:10:48       1034 2012_03_22_mu307/20120322T114453/L1/Image_F7000Hz_7000P0_L1_20120322T114453_129_um.par\n",
            "2022-04-05 22:10:36       1034 2012_03_22_mu307/20120322T114453/L1/Image_F7000Hz_7000P135_L1_20120322T114453_132_um.par\n",
            "2022-04-05 22:10:31       1034 2012_03_22_mu307/20120322T114453/L1/Image_F7000Hz_7000P180_L1_20120322T114453_133_um.par\n",
            "2022-04-05 22:10:38       1034 2012_03_22_mu307/20120322T114453/L1/Image_F7000Hz_7000P225_L1_20120322T114453_134_um.par\n",
            "2022-04-05 22:10:32       1034 2012_03_22_mu307/20120322T114453/L1/Image_F7000Hz_7000P270_L1_20120322T114453_135_um.par\n",
            "2022-04-05 22:11:15       1034 2012_03_22_mu307/20120322T114453/L1/Image_F7000Hz_7000P315_L1_20120322T114453_136_um.par\n",
            "2022-04-05 22:10:02       1034 2012_03_22_mu307/20120322T114453/L1/Image_F7000Hz_7000P45_L1_20120322T114453_130_um.par\n",
            "2022-04-05 22:11:05       1034 2012_03_22_mu307/20120322T114453/L1/Image_F7000Hz_7000P90_L1_20120322T114453_131_um.par\n",
            "2022-04-05 22:09:57        966 2012_03_22_mu307/20120322T114453/L1/README_20120322T160636.txt\n",
            "2022-04-05 22:10:12    1472124 2012_03_22_mu307/20120322T114453/L1/ROImap_20120322T140452_experiment_20120322T114453.tif\n",
            "2022-04-05 22:10:09        542 2012_03_22_mu307/20120322T114453/L1/probe_metadata_serial_20120322T160739\n",
            "2022-04-05 22:11:05       7914 2012_03_22_mu307/20120322T114453/L1/ssxcorr_64_IHCSS_y_F10000_L1_serial_20120322T114453_ROIserial_20120322T140452.mat\n",
            "2022-04-05 22:10:35       8185 2012_03_22_mu307/20120322T114453/L1/ssxcorr_64_IHCSS_y_F1000_L1_serial_20120322T114453_ROIserial_20120322T140452.mat\n",
            "2022-04-05 22:10:16       8104 2012_03_22_mu307/20120322T114453/L1/ssxcorr_64_IHCSS_y_F10_L1_serial_20120322T114453_ROIserial_20120322T140452.mat\n",
            "2022-04-05 22:10:20       7785 2012_03_22_mu307/20120322T114453/L1/ssxcorr_64_IHCSS_y_F12000_L1_serial_20120322T114453_ROIserial_20120322T140452.mat\n",
            "2022-04-05 22:10:41       7880 2012_03_22_mu307/20120322T114453/L1/ssxcorr_64_IHCSS_y_F15000_L1_serial_20120322T114453_ROIserial_20120322T140452.mat\n",
            "2022-04-05 22:10:50       8390 2012_03_22_mu307/20120322T114453/L1/ssxcorr_64_IHCSS_y_F1500_L1_serial_20120322T114453_ROIserial_20120322T140452.mat\n",
            "2022-04-05 22:10:46       7769 2012_03_22_mu307/20120322T114453/L1/ssxcorr_64_IHCSS_y_F18000_L1_serial_20120322T114453_ROIserial_20120322T140452.mat\n",
            "2022-04-05 22:10:47       7361 2012_03_22_mu307/20120322T114453/L1/ssxcorr_64_IHCSS_y_F20000_L1_serial_20120322T114453_ROIserial_20120322T140452.mat\n",
            "2022-04-05 22:10:57       8338 2012_03_22_mu307/20120322T114453/L1/ssxcorr_64_IHCSS_y_F2000_L1_serial_20120322T114453_ROIserial_20120322T140452.mat\n",
            "2022-04-05 22:10:51       8271 2012_03_22_mu307/20120322T114453/L1/ssxcorr_64_IHCSS_y_F2500_L1_serial_20120322T114453_ROIserial_20120322T140452.mat\n",
            "2022-04-05 22:10:19       7911 2012_03_22_mu307/20120322T114453/L1/ssxcorr_64_IHCSS_y_F250_L1_serial_20120322T114453_ROIserial_20120322T140452.mat\n",
            "2022-04-05 22:11:14       7932 2012_03_22_mu307/20120322T114453/L1/ssxcorr_64_IHCSS_y_F3000_L1_serial_20120322T114453_ROIserial_20120322T140452.mat\n",
            "2022-04-05 22:11:04       7910 2012_03_22_mu307/20120322T114453/L1/ssxcorr_64_IHCSS_y_F3500_L1_serial_20120322T114453_ROIserial_20120322T140452.mat\n",
            "2022-04-05 22:10:56       7870 2012_03_22_mu307/20120322T114453/L1/ssxcorr_64_IHCSS_y_F4000_L1_serial_20120322T114453_ROIserial_20120322T140452.mat\n",
            "2022-04-05 22:11:07       8135 2012_03_22_mu307/20120322T114453/L1/ssxcorr_64_IHCSS_y_F4500_L1_serial_20120322T114453_ROIserial_20120322T140452.mat\n",
            "2022-04-05 22:11:01       7970 2012_03_22_mu307/20120322T114453/L1/ssxcorr_64_IHCSS_y_F5000_L1_serial_20120322T114453_ROIserial_20120322T140452.mat\n",
            "2022-04-05 22:10:06       8016 2012_03_22_mu307/20120322T114453/L1/ssxcorr_64_IHCSS_y_F500_L1_serial_20120322T114453_ROIserial_20120322T140452.mat\n",
            "2022-04-05 22:10:18       7933 2012_03_22_mu307/20120322T114453/L1/ssxcorr_64_IHCSS_y_F50_L1_serial_20120322T114453_ROIserial_20120322T140452.mat\n",
            "2022-04-05 22:11:03       7929 2012_03_22_mu307/20120322T114453/L1/ssxcorr_64_IHCSS_y_F5500_L1_serial_20120322T114453_ROIserial_20120322T140452.mat\n",
            "2022-04-05 22:10:34       7935 2012_03_22_mu307/20120322T114453/L1/ssxcorr_64_IHCSS_y_F6000_L1_serial_20120322T114453_ROIserial_20120322T140452.mat\n",
            "2022-04-05 22:10:28       7843 2012_03_22_mu307/20120322T114453/L1/ssxcorr_64_IHCSS_y_F6500_L1_serial_20120322T114453_ROIserial_20120322T140452.mat\n",
            "2022-04-05 22:10:13       7984 2012_03_22_mu307/20120322T114453/L1/ssxcorr_64_IHCSS_y_F7000_L1_serial_20120322T114453_ROIserial_20120322T140452.mat\n",
            "2022-04-05 22:11:08      62786 2012_03_22_mu307/20120322T114453/L1/trash_fft_data_analysis_file_20120322T160636.mat\n"
          ]
        }
      ]
    },
    {
      "cell_type": "code",
      "source": [
        "for bucket in s3.buckets.all(): print(bucket.name)"
      ],
      "metadata": {
        "colab": {
          "base_uri": "https://localhost:8080/"
        },
        "id": "19AcjtiehXo3",
        "outputId": "487ce9b2-037f-488c-cf0d-3b6fd654f9ef"
      },
      "execution_count": null,
      "outputs": [
        {
          "output_type": "stream",
          "name": "stdout",
          "text": [
            "gerbilstrobe\n"
          ]
        }
      ]
    },
    {
      "cell_type": "code",
      "source": [
        "KEY = '2012_03_22_mu307/20120322T114453/L1/F10/Image_F10HzP000L1S20120322T114453.tif'\n",
        "\n",
        "s3.Bucket(BUCKET_NAME).download_file(KEY, 'Image_F10HzP000L1S20120322T114453.tif')"
      ],
      "metadata": {
        "id": "0P8F_PwpPJTC"
      },
      "execution_count": null,
      "outputs": []
    },
    {
      "cell_type": "code",
      "source": [
        "from PIL import Image\n",
        "import cv2\n",
        "import matplotlib.pyplot as plt\n",
        "im = Image.open('Image_F10HzP000L1S20120322T114453.tif')\n",
        "\n",
        "\n",
        "\n",
        "plt.imshow(im, cmap='gray')"
      ],
      "metadata": {
        "colab": {
          "base_uri": "https://localhost:8080/",
          "height": 286
        },
        "id": "ipMejDg9vxnf",
        "outputId": "d604d430-5dc0-4c32-8ec9-d2c71493ca0c"
      },
      "execution_count": null,
      "outputs": [
        {
          "output_type": "execute_result",
          "data": {
            "text/plain": [
              "<matplotlib.image.AxesImage at 0x7f5903f00950>"
            ]
          },
          "metadata": {},
          "execution_count": 17
        },
        {
          "output_type": "display_data",
          "data": {
            "text/plain": [
              "<Figure size 432x288 with 1 Axes>"
            ],
            "image/png": "[encoded data removed]"
          },
          "metadata": {
            "needs_background": "light"
          }
        }
      ]
    },
    {
      "cell_type": "code",
      "source": [
        "# get ground truth data\n",
        "\n",
        "#open a list of sxxcorr files\n",
        "\n",
        "# use these files to run the RAFT from their filname list\n",
        "\n",
        "# y_mvmt is the ground truth for the cross correlation with 16 x oversampling.\n",
        "\n",
        "#since RAFT works on a pixel basis we can average the vertical displacement across the entire ROI to make a fair comparison\n",
        "\n",
        "# Then send this to the fft algorithm to fit to a sinusoid.\n",
        "\n",
        "# make a class to do this the class will import the number of frequencies in a level and the prefix of the sxxycorr files , make a list of sxxycorr files, make a list of image files for each frequency\n",
        "\n",
        "#make a function that inputs these lists and uses the objects to run the algorithm.\n",
        "\n"
      ],
      "metadata": {
        "id": "Ui_M3thzYBGL"
      },
      "execution_count": null,
      "outputs": []
    }
  ]
}